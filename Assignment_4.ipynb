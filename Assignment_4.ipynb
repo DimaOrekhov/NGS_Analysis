{
 "cells": [
  {
   "cell_type": "code",
   "execution_count": 1,
   "metadata": {},
   "outputs": [],
   "source": [
    "import pysam\n",
    "import pandas as pd\n",
    "from tqdm import tqdm_notebook\n",
    "import numpy as np\n",
    "import gc"
   ]
  },
  {
   "cell_type": "code",
   "execution_count": 2,
   "metadata": {},
   "outputs": [],
   "source": [
    "class Correction_Summary:\n",
    "    \n",
    "    def __init__(self, bam, bam_corr, method):\n",
    "        self.bam = bam\n",
    "        self.bam_corr = bam_corr\n",
    "        self.method = method\n",
    "        self.table = np.zeros((2, 3))   \n",
    "        self.mismapped = 0\n",
    "        self.failed_corr = 0\n",
    "        self.failed_raw = 0\n",
    "        \n",
    "    def errors_in_corr(self):\n",
    "        \n",
    "        self.corr_errors = {}\n",
    "        \n",
    "        with pysam.AlignmentFile(self.bam_corr, 'rb') as al_corr:\n",
    "            for read in tqdm_notebook(al_corr.fetch()):\n",
    "                if self.method == 'BH':\n",
    "                    \n",
    "                    temp = {}\n",
    "                    temp['anchors'] = (read.reference_start, read.reference_end)\n",
    "                    temp['is_rev'] = read.is_reverse\n",
    "                    temp['errors'] = {}\n",
    "                    temp['trimmed'] = {}\n",
    "                    \n",
    "                    try:\n",
    "                        for qb, rb, base in read.get_aligned_pairs(with_seq=True):\n",
    "\n",
    "                            if (qb != None):\n",
    "                                if (read.seq[qb] == 'N'):\n",
    "                                    temp['trimmed'][qb] = (rb)\n",
    "                                elif (read.seq[qb] != base):\n",
    "                                    temp['errors'][qb] = (rb, base)\n",
    "                                else:\n",
    "                                    continue\n",
    "                    except:\n",
    "                        self.failed_corr += 1\n",
    "                    \n",
    "                    self.corr_errors[f'{read.qname}{read.is_read1}'] = temp\n",
    "                    \n",
    "                \n",
    "    def compute_results(self):\n",
    "        with pysam.AlignmentFile(self.bam, 'rb') as al:\n",
    "            for read in tqdm_notebook(al.fetch()):\n",
    "                if f'{read.qname}{read.is_read1}' in self.corr_errors:\n",
    "                    \n",
    "                    t = self.corr_errors[f'{read.qname}{read.is_read1}']\n",
    "                    \n",
    "                    if (t['is_rev'] == read.is_reverse):\n",
    "                        if (read.reference_start == t['anchors'][0])\\\n",
    "                        or (read.reference_end == t['anchors'][1]):\n",
    "                            try:\n",
    "                                for qb, rb, base in read.get_aligned_pairs(with_seq = True):\n",
    "                                    if (qb != None):\n",
    "\n",
    "                                        if (rb == None) or (base.upper() != base):\n",
    "                                            row = 0\n",
    "                                        else:\n",
    "                                            row = 1\n",
    "\n",
    "                                        if qb in t['trimmed']:\n",
    "                                            col = 2\n",
    "                                        elif qb in t['errors']:\n",
    "                                            col = 0\n",
    "                                        else:\n",
    "                                            col = 1\n",
    "\n",
    "                                        self.table[row, col] += 1\n",
    "                            except:\n",
    "                                self.failed_raw += 1\n",
    "                                   \n",
    "                        else:\n",
    "                            self.mismapped += 1\n",
    "                            continue\n",
    "                    else:\n",
    "                        self.mismapped += 1\n",
    "                        continue\n",
    "        \n",
    "    def fit(self):\n",
    "        self.errors_in_corr()\n",
    "        self.compute_results()\n",
    "        self.table = pd.DataFrame(self.table,\n",
    "                                  index = ['Error in raw', 'Correct in raw'],\n",
    "                                 columns= ['Error in corrected', 'Correct in corrected', 'Removed'])\n",
    "        return self.table"
   ]
  },
  {
   "cell_type": "markdown",
   "metadata": {},
   "source": [
    "## Test data:"
   ]
  },
  {
   "cell_type": "code",
   "execution_count": 9,
   "metadata": {},
   "outputs": [],
   "source": [
    "bam_path_pre = 'Data/Assignment_4/test_al/s_pre_corr.bam'\n",
    "bam_path_post = 'Data/Assignment_4/test_al/s_post_corr.bam'"
   ]
  },
  {
   "cell_type": "code",
   "execution_count": 10,
   "metadata": {},
   "outputs": [
    {
     "data": {
      "application/vnd.jupyter.widget-view+json": {
       "model_id": "c8222d5115df47699d01cd1feb116885",
       "version_major": 2,
       "version_minor": 0
      },
      "text/plain": [
       "HBox(children=(IntProgress(value=1, bar_style='info', max=1), HTML(value='')))"
      ]
     },
     "metadata": {},
     "output_type": "display_data"
    },
    {
     "data": {
      "application/vnd.jupyter.widget-view+json": {
       "model_id": "c85ca23b6e17425c9bcaf650d68052aa",
       "version_major": 2,
       "version_minor": 0
      },
      "text/plain": [
       "HBox(children=(IntProgress(value=1, bar_style='info', max=1), HTML(value='')))"
      ]
     },
     "metadata": {},
     "output_type": "display_data"
    }
   ],
   "source": [
    "Summary = Correction_Summary(bam_path_pre, bam_path_post, 'BH')\n",
    "test_res = Summary.fit()"
   ]
  },
  {
   "cell_type": "code",
   "execution_count": 11,
   "metadata": {},
   "outputs": [
    {
     "data": {
      "text/html": [
       "<div>\n",
       "<style scoped>\n",
       "    .dataframe tbody tr th:only-of-type {\n",
       "        vertical-align: middle;\n",
       "    }\n",
       "\n",
       "    .dataframe tbody tr th {\n",
       "        vertical-align: top;\n",
       "    }\n",
       "\n",
       "    .dataframe thead th {\n",
       "        text-align: right;\n",
       "    }\n",
       "</style>\n",
       "<table border=\"1\" class=\"dataframe\">\n",
       "  <thead>\n",
       "    <tr style=\"text-align: right;\">\n",
       "      <th></th>\n",
       "      <th>Error in corrected</th>\n",
       "      <th>Correct in corrected</th>\n",
       "      <th>Removed</th>\n",
       "    </tr>\n",
       "  </thead>\n",
       "  <tbody>\n",
       "    <tr>\n",
       "      <th>Error in raw</th>\n",
       "      <td>6476.0</td>\n",
       "      <td>21244.0</td>\n",
       "      <td>200904.0</td>\n",
       "    </tr>\n",
       "    <tr>\n",
       "      <th>Correct in raw</th>\n",
       "      <td>1570.0</td>\n",
       "      <td>5222528.0</td>\n",
       "      <td>345578.0</td>\n",
       "    </tr>\n",
       "  </tbody>\n",
       "</table>\n",
       "</div>"
      ],
      "text/plain": [
       "                Error in corrected  Correct in corrected   Removed\n",
       "Error in raw                6476.0               21244.0  200904.0\n",
       "Correct in raw              1570.0             5222528.0  345578.0"
      ]
     },
     "execution_count": 11,
     "metadata": {},
     "output_type": "execute_result"
    }
   ],
   "source": [
    "test_res"
   ]
  },
  {
   "cell_type": "code",
   "execution_count": null,
   "metadata": {},
   "outputs": [],
   "source": [
    "print('Number of reads aligned differently before and afrer correction: {}'.format(Summary.mismapped))"
   ]
  },
  {
   "cell_type": "markdown",
   "metadata": {},
   "source": [
    "## Full data:"
   ]
  },
  {
   "cell_type": "code",
   "execution_count": 3,
   "metadata": {},
   "outputs": [],
   "source": [
    "bam_path_r_pre = 'Data/Assignment_4/real_al/s_pre_corr.bam'\n",
    "bam_path_r_post = 'Data/Assignment_4/real_al/s_post_corr.bam'"
   ]
  },
  {
   "cell_type": "code",
   "execution_count": 4,
   "metadata": {},
   "outputs": [
    {
     "data": {
      "application/vnd.jupyter.widget-view+json": {
       "model_id": "5b24f342a28640afa65e2a32ceca15ff",
       "version_major": 2,
       "version_minor": 0
      },
      "text/plain": [
       "HBox(children=(IntProgress(value=1, bar_style='info', max=1), HTML(value='')))"
      ]
     },
     "metadata": {},
     "output_type": "display_data"
    },
    {
     "name": "stdout",
     "output_type": "stream",
     "text": [
      "\n"
     ]
    },
    {
     "data": {
      "application/vnd.jupyter.widget-view+json": {
       "model_id": "a6528c854952473e9fb4131eff7458e9",
       "version_major": 2,
       "version_minor": 0
      },
      "text/plain": [
       "HBox(children=(IntProgress(value=1, bar_style='info', max=1), HTML(value='')))"
      ]
     },
     "metadata": {},
     "output_type": "display_data"
    },
    {
     "name": "stdout",
     "output_type": "stream",
     "text": [
      "\n"
     ]
    }
   ],
   "source": [
    "Summary_r = Correction_Summary(bam_path_r_pre, bam_path_r_post, 'BH')\n",
    "test_res_r = Summary_r.fit()"
   ]
  },
  {
   "cell_type": "code",
   "execution_count": 6,
   "metadata": {},
   "outputs": [
    {
     "data": {
      "text/html": [
       "<div>\n",
       "<style scoped>\n",
       "    .dataframe tbody tr th:only-of-type {\n",
       "        vertical-align: middle;\n",
       "    }\n",
       "\n",
       "    .dataframe tbody tr th {\n",
       "        vertical-align: top;\n",
       "    }\n",
       "\n",
       "    .dataframe thead th {\n",
       "        text-align: right;\n",
       "    }\n",
       "</style>\n",
       "<table border=\"1\" class=\"dataframe\">\n",
       "  <thead>\n",
       "    <tr style=\"text-align: right;\">\n",
       "      <th></th>\n",
       "      <th>Error in corrected</th>\n",
       "      <th>Correct in corrected</th>\n",
       "      <th>Removed</th>\n",
       "    </tr>\n",
       "  </thead>\n",
       "  <tbody>\n",
       "    <tr>\n",
       "      <th>Error in raw</th>\n",
       "      <td>382856.0</td>\n",
       "      <td>926838.0</td>\n",
       "      <td>6687031.0</td>\n",
       "    </tr>\n",
       "    <tr>\n",
       "      <th>Correct in raw</th>\n",
       "      <td>77557.0</td>\n",
       "      <td>246947772.0</td>\n",
       "      <td>14383146.0</td>\n",
       "    </tr>\n",
       "  </tbody>\n",
       "</table>\n",
       "</div>"
      ],
      "text/plain": [
       "                Error in corrected  Correct in corrected     Removed\n",
       "Error in raw              382856.0              926838.0   6687031.0\n",
       "Correct in raw             77557.0           246947772.0  14383146.0"
      ]
     },
     "execution_count": 6,
     "metadata": {},
     "output_type": "execute_result"
    }
   ],
   "source": [
    "test_res_r"
   ]
  },
  {
   "cell_type": "code",
   "execution_count": 5,
   "metadata": {},
   "outputs": [
    {
     "name": "stdout",
     "output_type": "stream",
     "text": [
      "Number of reads aligned differently before and afrer correction: 21942\n"
     ]
    }
   ],
   "source": [
    "print('Number of reads aligned differently before and afrer correction: {}'.format(Summary_r.mismapped))"
   ]
  }
 ],
 "metadata": {
  "kernelspec": {
   "display_name": "Python 3",
   "language": "python",
   "name": "python3"
  },
  "language_info": {
   "codemirror_mode": {
    "name": "ipython",
    "version": 3
   },
   "file_extension": ".py",
   "mimetype": "text/x-python",
   "name": "python",
   "nbconvert_exporter": "python",
   "pygments_lexer": "ipython3",
   "version": "3.6.8"
  },
  "widgets": {
   "application/vnd.jupyter.widget-state+json": {
    "state": {
     "026694b4d9f94e4bbeff68248dfe0f07": {
      "model_module": "@jupyter-widgets/controls",
      "model_module_version": "1.4.0",
      "model_name": "ProgressStyleModel",
      "state": {
       "description_width": ""
      }
     },
     "04740c1f763d4365ae4078a18e4e391a": {
      "model_module": "@jupyter-widgets/controls",
      "model_module_version": "1.4.0",
      "model_name": "IntProgressModel",
      "state": {
       "bar_style": "success",
       "layout": "IPY_MODEL_0dcaad3cfedd4b26b7e620aba0372319",
       "max": 1,
       "style": "IPY_MODEL_0db7722e8c2d4a2b9382a911bbd2503f",
       "value": 1
      }
     },
     "04e4035a1ee54f5782d7048acfb9cc83": {
      "model_module": "@jupyter-widgets/controls",
      "model_module_version": "1.4.0",
      "model_name": "ProgressStyleModel",
      "state": {
       "description_width": ""
      }
     },
     "0543cd5d5d7f4246a5b946c43b837163": {
      "model_module": "@jupyter-widgets/base",
      "model_module_version": "1.1.0",
      "model_name": "LayoutModel",
      "state": {}
     },
     "05e542a867ea4653ab76654b5a6572dc": {
      "model_module": "@jupyter-widgets/base",
      "model_module_version": "1.1.0",
      "model_name": "LayoutModel",
      "state": {}
     },
     "06b0829249f04dfdb8ac880f68dc7eb7": {
      "model_module": "@jupyter-widgets/controls",
      "model_module_version": "1.4.0",
      "model_name": "HTMLModel",
      "state": {
       "layout": "IPY_MODEL_18e96dc5303b459abbe651227f70149a",
       "style": "IPY_MODEL_5bd9aab0324d4e9e963eed2a5134bf38",
       "value": "0/|/| 0/? [00:00&lt;?, ?it/s]"
      }
     },
     "0742f0239399414aa387acfc0069a1ff": {
      "model_module": "@jupyter-widgets/base",
      "model_module_version": "1.1.0",
      "model_name": "LayoutModel",
      "state": {}
     },
     "08257c7ead4d49b3bfbc3e136568873f": {
      "model_module": "@jupyter-widgets/base",
      "model_module_version": "1.1.0",
      "model_name": "LayoutModel",
      "state": {}
     },
     "0961eae9e78f437399e946ecd4212e40": {
      "model_module": "@jupyter-widgets/controls",
      "model_module_version": "1.4.0",
      "model_name": "HBoxModel",
      "state": {
       "children": [
        "IPY_MODEL_4fdf6f1c8e924658aa562b957268f5a9",
        "IPY_MODEL_6c635237d37a4bd4933035dc297b4482"
       ],
       "layout": "IPY_MODEL_b8f0247e0a504535afa476d3a0bee70b"
      }
     },
     "0d494ac666444f838c262f163e152103": {
      "model_module": "@jupyter-widgets/controls",
      "model_module_version": "1.4.0",
      "model_name": "IntProgressModel",
      "state": {
       "bar_style": "danger",
       "layout": "IPY_MODEL_6bec1d4816c345dbb5f052d58db1ec3e",
       "max": 1,
       "style": "IPY_MODEL_7d12f16ef4f34b41b68a4409df2fde19",
       "value": 1
      }
     },
     "0db7722e8c2d4a2b9382a911bbd2503f": {
      "model_module": "@jupyter-widgets/controls",
      "model_module_version": "1.4.0",
      "model_name": "ProgressStyleModel",
      "state": {
       "description_width": ""
      }
     },
     "0dcaad3cfedd4b26b7e620aba0372319": {
      "model_module": "@jupyter-widgets/base",
      "model_module_version": "1.1.0",
      "model_name": "LayoutModel",
      "state": {}
     },
     "100f70f29c6941edbada2d48c24c6963": {
      "model_module": "@jupyter-widgets/base",
      "model_module_version": "1.1.0",
      "model_name": "LayoutModel",
      "state": {}
     },
     "12290b16514b476d8229cda449ecd6a2": {
      "model_module": "@jupyter-widgets/controls",
      "model_module_version": "1.4.0",
      "model_name": "HTMLModel",
      "state": {
       "layout": "IPY_MODEL_1f5000aa9ce141a1a0488bcd8b672da8",
       "style": "IPY_MODEL_576df3431bf540b89f7cfdb7250b0606",
       "value": "57986/|/| 57986/? [00:02&lt;00:00, 28387.98it/s]"
      }
     },
     "14f6c4d032094cd691e216fa43383cb4": {
      "model_module": "@jupyter-widgets/controls",
      "model_module_version": "1.4.0",
      "model_name": "HBoxModel",
      "state": {
       "children": [
        "IPY_MODEL_04740c1f763d4365ae4078a18e4e391a",
        "IPY_MODEL_1529d1c6c4b44f899de55eb8e48a4e96"
       ],
       "layout": "IPY_MODEL_a83bd9aad5e949bca9ed04da6a62849f"
      }
     },
     "150b9777ed374deea853b3a861f258db": {
      "model_module": "@jupyter-widgets/controls",
      "model_module_version": "1.4.0",
      "model_name": "HTMLModel",
      "state": {
       "layout": "IPY_MODEL_e901f8fee4894261b6ff951e5a7a9f75",
       "style": "IPY_MODEL_dfae8f8255f74b8cb0b443fb5e3ee13e",
       "value": "0/|/| 0/? [00:00&lt;?, ?it/s]"
      }
     },
     "1529d1c6c4b44f899de55eb8e48a4e96": {
      "model_module": "@jupyter-widgets/controls",
      "model_module_version": "1.4.0",
      "model_name": "HTMLModel",
      "state": {
       "layout": "IPY_MODEL_35c207ee0ca342ce814210936ca450a1",
       "style": "IPY_MODEL_58de9987da3140ebab0c677e6a573e47",
       "value": "59276/|/| 59276/? [28:12&lt;00:00, 33.61it/s]"
      }
     },
     "168c443e98bd41768d77e8cbb400c3b0": {
      "model_module": "@jupyter-widgets/base",
      "model_module_version": "1.1.0",
      "model_name": "LayoutModel",
      "state": {}
     },
     "18e96dc5303b459abbe651227f70149a": {
      "model_module": "@jupyter-widgets/base",
      "model_module_version": "1.1.0",
      "model_name": "LayoutModel",
      "state": {}
     },
     "1f5000aa9ce141a1a0488bcd8b672da8": {
      "model_module": "@jupyter-widgets/base",
      "model_module_version": "1.1.0",
      "model_name": "LayoutModel",
      "state": {}
     },
     "210d8fde69374886b85c99f720dec860": {
      "model_module": "@jupyter-widgets/base",
      "model_module_version": "1.1.0",
      "model_name": "LayoutModel",
      "state": {}
     },
     "2658bbe255df47aba9747e2dbce97a13": {
      "model_module": "@jupyter-widgets/controls",
      "model_module_version": "1.4.0",
      "model_name": "ProgressStyleModel",
      "state": {
       "description_width": ""
      }
     },
     "269013581c394a5cb502f7f39cdb5a71": {
      "model_module": "@jupyter-widgets/controls",
      "model_module_version": "1.4.0",
      "model_name": "HBoxModel",
      "state": {
       "children": [
        "IPY_MODEL_c1a5912e3f3f4edeac45c0dacd111b86",
        "IPY_MODEL_12290b16514b476d8229cda449ecd6a2"
       ],
       "layout": "IPY_MODEL_f3ee5eccc47541858cb383030a33bfee"
      }
     },
     "26e21ac3ccda4d7ab9c0f9e605774e99": {
      "model_module": "@jupyter-widgets/controls",
      "model_module_version": "1.4.0",
      "model_name": "HTMLModel",
      "state": {
       "layout": "IPY_MODEL_210d8fde69374886b85c99f720dec860",
       "style": "IPY_MODEL_2d259700c2744e9bb24ede86d07aebd4",
       "value": "57986/|/| 57986/? [00:01&lt;00:00, 31342.74it/s]"
      }
     },
     "2755f54187a54b18a76ab1ab232c32ce": {
      "model_module": "@jupyter-widgets/controls",
      "model_module_version": "1.4.0",
      "model_name": "HTMLModel",
      "state": {
       "layout": "IPY_MODEL_8e83ce3b325047e2896b33b3c31e9dee",
       "style": "IPY_MODEL_66686cf1cbc84c84bc4ed3ea1ef13a92",
       "value": "0/|/| 0/? [00:00&lt;?, ?it/s]"
      }
     },
     "284dee17ad55427fac80597ba2b7fdd3": {
      "model_module": "@jupyter-widgets/controls",
      "model_module_version": "1.4.0",
      "model_name": "HBoxModel",
      "state": {
       "children": [
        "IPY_MODEL_37ebd56e3a59407faf33b793d8cc3918",
        "IPY_MODEL_f7123061abbb4c8ebeaac263a1736732"
       ],
       "layout": "IPY_MODEL_880bad69bd854c4c931ab3705c8db45d"
      }
     },
     "2d259700c2744e9bb24ede86d07aebd4": {
      "model_module": "@jupyter-widgets/controls",
      "model_module_version": "1.4.0",
      "model_name": "DescriptionStyleModel",
      "state": {
       "description_width": ""
      }
     },
     "2d382b41c7c642a2b6d661275a1a9632": {
      "model_module": "@jupyter-widgets/controls",
      "model_module_version": "1.4.0",
      "model_name": "HBoxModel",
      "state": {
       "children": [
        "IPY_MODEL_8b3bacc6515e44658d1bc11d169f4f45",
        "IPY_MODEL_9e0968cef529455994ae1222ae196451"
       ],
       "layout": "IPY_MODEL_d41dd53136924bdd8d23526f83b0a057"
      }
     },
     "2f529b40b89b453e846d5b4baf852568": {
      "model_module": "@jupyter-widgets/base",
      "model_module_version": "1.1.0",
      "model_name": "LayoutModel",
      "state": {}
     },
     "32a4219b07264a9b9c0112764b6cee24": {
      "model_module": "@jupyter-widgets/base",
      "model_module_version": "1.1.0",
      "model_name": "LayoutModel",
      "state": {}
     },
     "35c207ee0ca342ce814210936ca450a1": {
      "model_module": "@jupyter-widgets/base",
      "model_module_version": "1.1.0",
      "model_name": "LayoutModel",
      "state": {}
     },
     "37ebd56e3a59407faf33b793d8cc3918": {
      "model_module": "@jupyter-widgets/controls",
      "model_module_version": "1.4.0",
      "model_name": "IntProgressModel",
      "state": {
       "bar_style": "danger",
       "layout": "IPY_MODEL_7da4152170ef4cf0a35db1e37f1feb3a",
       "max": 1,
       "style": "IPY_MODEL_c473f2ec9a1543f38983b2f93cad2013",
       "value": 1
      }
     },
     "3d9fd93f879042ac8d7c890398811ed3": {
      "model_module": "@jupyter-widgets/base",
      "model_module_version": "1.1.0",
      "model_name": "LayoutModel",
      "state": {}
     },
     "3e6ca871e44946cbaf1c870125b25cd1": {
      "model_module": "@jupyter-widgets/base",
      "model_module_version": "1.1.0",
      "model_name": "LayoutModel",
      "state": {}
     },
     "419b592183354d2caecb970a1b086428": {
      "model_module": "@jupyter-widgets/controls",
      "model_module_version": "1.4.0",
      "model_name": "IntProgressModel",
      "state": {
       "bar_style": "danger",
       "layout": "IPY_MODEL_9dbd80d87665425b9e22fca48679722f",
       "max": 1,
       "style": "IPY_MODEL_f8680623045044c28cce4e2cef797d65",
       "value": 1
      }
     },
     "431a4f792d674287acc1407e1378e7f3": {
      "model_module": "@jupyter-widgets/base",
      "model_module_version": "1.1.0",
      "model_name": "LayoutModel",
      "state": {}
     },
     "44907b1cfdee44299bf436874f99c81b": {
      "model_module": "@jupyter-widgets/controls",
      "model_module_version": "1.4.0",
      "model_name": "DescriptionStyleModel",
      "state": {
       "description_width": ""
      }
     },
     "4611c794068a4f678089ae3821dbb85f": {
      "model_module": "@jupyter-widgets/controls",
      "model_module_version": "1.4.0",
      "model_name": "ProgressStyleModel",
      "state": {
       "description_width": ""
      }
     },
     "470c876463e545b2b2031eba3f5975e0": {
      "model_module": "@jupyter-widgets/base",
      "model_module_version": "1.1.0",
      "model_name": "LayoutModel",
      "state": {}
     },
     "4e274e31ed15461ea8d73a0c36ba71a2": {
      "model_module": "@jupyter-widgets/controls",
      "model_module_version": "1.4.0",
      "model_name": "IntProgressModel",
      "state": {
       "bar_style": "success",
       "layout": "IPY_MODEL_ca7208f102434e64afa6dd83b5a4f8d1",
       "max": 1,
       "style": "IPY_MODEL_4611c794068a4f678089ae3821dbb85f",
       "value": 1
      }
     },
     "4fdf6f1c8e924658aa562b957268f5a9": {
      "model_module": "@jupyter-widgets/controls",
      "model_module_version": "1.4.0",
      "model_name": "IntProgressModel",
      "state": {
       "bar_style": "success",
       "layout": "IPY_MODEL_08257c7ead4d49b3bfbc3e136568873f",
       "max": 1,
       "style": "IPY_MODEL_2658bbe255df47aba9747e2dbce97a13",
       "value": 1
      }
     },
     "50aa70040fb34b348c82a3c6e0b5c94b": {
      "model_module": "@jupyter-widgets/base",
      "model_module_version": "1.1.0",
      "model_name": "LayoutModel",
      "state": {}
     },
     "5305954d6aa1410ab0d69dca9c3419c4": {
      "model_module": "@jupyter-widgets/controls",
      "model_module_version": "1.4.0",
      "model_name": "HBoxModel",
      "state": {
       "children": [
        "IPY_MODEL_71d0866063c74886b0d84055b7c8b055",
        "IPY_MODEL_06b0829249f04dfdb8ac880f68dc7eb7"
       ],
       "layout": "IPY_MODEL_5c9fa2c3dce1429cb3683104731e13e1"
      }
     },
     "541778371bbe4a37adcf4fe9f29b6429": {
      "model_module": "@jupyter-widgets/controls",
      "model_module_version": "1.4.0",
      "model_name": "HTMLModel",
      "state": {
       "layout": "IPY_MODEL_a7cdab8daab24a39a56e9dd99315c15a",
       "style": "IPY_MODEL_5941602db4894c6d949960ecb076c5fe",
       "value": "57986/|/| 57986/? [00:01&lt;00:00, 31507.24it/s]"
      }
     },
     "548a7475ce7042b18cbcf8c92559b75c": {
      "model_module": "@jupyter-widgets/base",
      "model_module_version": "1.1.0",
      "model_name": "LayoutModel",
      "state": {}
     },
     "56139ed82e504afaa6cd464b798de0fa": {
      "model_module": "@jupyter-widgets/controls",
      "model_module_version": "1.4.0",
      "model_name": "ProgressStyleModel",
      "state": {
       "description_width": ""
      }
     },
     "576df3431bf540b89f7cfdb7250b0606": {
      "model_module": "@jupyter-widgets/controls",
      "model_module_version": "1.4.0",
      "model_name": "DescriptionStyleModel",
      "state": {
       "description_width": ""
      }
     },
     "58de9987da3140ebab0c677e6a573e47": {
      "model_module": "@jupyter-widgets/controls",
      "model_module_version": "1.4.0",
      "model_name": "DescriptionStyleModel",
      "state": {
       "description_width": ""
      }
     },
     "5941602db4894c6d949960ecb076c5fe": {
      "model_module": "@jupyter-widgets/controls",
      "model_module_version": "1.4.0",
      "model_name": "DescriptionStyleModel",
      "state": {
       "description_width": ""
      }
     },
     "597f1b9a6714438091f4dde81815c211": {
      "model_module": "@jupyter-widgets/base",
      "model_module_version": "1.1.0",
      "model_name": "LayoutModel",
      "state": {}
     },
     "59cac611f6b440c9b216dd387d8cbe16": {
      "model_module": "@jupyter-widgets/base",
      "model_module_version": "1.1.0",
      "model_name": "LayoutModel",
      "state": {}
     },
     "5bd9aab0324d4e9e963eed2a5134bf38": {
      "model_module": "@jupyter-widgets/controls",
      "model_module_version": "1.4.0",
      "model_name": "DescriptionStyleModel",
      "state": {
       "description_width": ""
      }
     },
     "5c9fa2c3dce1429cb3683104731e13e1": {
      "model_module": "@jupyter-widgets/base",
      "model_module_version": "1.1.0",
      "model_name": "LayoutModel",
      "state": {}
     },
     "5d22c31542c34048908baee88840b855": {
      "model_module": "@jupyter-widgets/controls",
      "model_module_version": "1.4.0",
      "model_name": "ProgressStyleModel",
      "state": {
       "description_width": ""
      }
     },
     "61d464f2a4054ec8b6a4e5587b0160c5": {
      "model_module": "@jupyter-widgets/base",
      "model_module_version": "1.1.0",
      "model_name": "LayoutModel",
      "state": {}
     },
     "625b5995fb784fe6a70bb2267e7e9b08": {
      "model_module": "@jupyter-widgets/base",
      "model_module_version": "1.1.0",
      "model_name": "LayoutModel",
      "state": {}
     },
     "637dfa8721474338aa19926397c2ed11": {
      "model_module": "@jupyter-widgets/controls",
      "model_module_version": "1.4.0",
      "model_name": "ProgressStyleModel",
      "state": {
       "description_width": ""
      }
     },
     "64b8acbb346c4d509a5fd5cb7f6db531": {
      "model_module": "@jupyter-widgets/base",
      "model_module_version": "1.1.0",
      "model_name": "LayoutModel",
      "state": {}
     },
     "6514bfe52e5b485dafa2623b41d22153": {
      "model_module": "@jupyter-widgets/base",
      "model_module_version": "1.1.0",
      "model_name": "LayoutModel",
      "state": {}
     },
     "65bb18a77a5d4d3aacc21bf2d270bcdf": {
      "model_module": "@jupyter-widgets/controls",
      "model_module_version": "1.4.0",
      "model_name": "HBoxModel",
      "state": {
       "children": [
        "IPY_MODEL_b259ae1a5a04423d99f28012d8ff6387",
        "IPY_MODEL_bf9bf4681f6042f5887f275283492aa3"
       ],
       "layout": "IPY_MODEL_3e6ca871e44946cbaf1c870125b25cd1"
      }
     },
     "66686cf1cbc84c84bc4ed3ea1ef13a92": {
      "model_module": "@jupyter-widgets/controls",
      "model_module_version": "1.4.0",
      "model_name": "DescriptionStyleModel",
      "state": {
       "description_width": ""
      }
     },
     "6719a2ed3ffd4695b59423dcd7a5c786": {
      "model_module": "@jupyter-widgets/base",
      "model_module_version": "1.1.0",
      "model_name": "LayoutModel",
      "state": {}
     },
     "6bec1d4816c345dbb5f052d58db1ec3e": {
      "model_module": "@jupyter-widgets/base",
      "model_module_version": "1.1.0",
      "model_name": "LayoutModel",
      "state": {}
     },
     "6c635237d37a4bd4933035dc297b4482": {
      "model_module": "@jupyter-widgets/controls",
      "model_module_version": "1.4.0",
      "model_name": "HTMLModel",
      "state": {
       "layout": "IPY_MODEL_e350d4bbbc254d93bb24c306bfe098d4",
       "style": "IPY_MODEL_d2239d0517494390bd2d624a07a98964",
       "value": "57986/|/| 57986/? [00:01&lt;00:00, 29082.34it/s]"
      }
     },
     "71d0866063c74886b0d84055b7c8b055": {
      "model_module": "@jupyter-widgets/controls",
      "model_module_version": "1.4.0",
      "model_name": "IntProgressModel",
      "state": {
       "bar_style": "danger",
       "layout": "IPY_MODEL_da10fff14a894013bdf8aa462828dd96",
       "max": 1,
       "style": "IPY_MODEL_f99aae328c1e40059b3921351829ba4e",
       "value": 1
      }
     },
     "759f5cac79264561bb9c2174ae5e1cd5": {
      "model_module": "@jupyter-widgets/controls",
      "model_module_version": "1.4.0",
      "model_name": "ProgressStyleModel",
      "state": {
       "description_width": ""
      }
     },
     "76116494bdb24d1db8348e6ae921e831": {
      "model_module": "@jupyter-widgets/controls",
      "model_module_version": "1.4.0",
      "model_name": "DescriptionStyleModel",
      "state": {
       "description_width": ""
      }
     },
     "777cba2f28f44d4ca9f1545404cfcf57": {
      "model_module": "@jupyter-widgets/controls",
      "model_module_version": "1.4.0",
      "model_name": "HBoxModel",
      "state": {
       "children": [
        "IPY_MODEL_b8504562ab064b6a8c7ba20f908ce781",
        "IPY_MODEL_541778371bbe4a37adcf4fe9f29b6429"
       ],
       "layout": "IPY_MODEL_64b8acbb346c4d509a5fd5cb7f6db531"
      }
     },
     "78421dd3e6e0460f8344efde6de17201": {
      "model_module": "@jupyter-widgets/controls",
      "model_module_version": "1.4.0",
      "model_name": "HBoxModel",
      "state": {
       "children": [
        "IPY_MODEL_7d8d46f9c3844bb8a50471ab0b430283",
        "IPY_MODEL_2755f54187a54b18a76ab1ab232c32ce"
       ],
       "layout": "IPY_MODEL_05e542a867ea4653ab76654b5a6572dc"
      }
     },
     "7b604e46e42448bba1f3ea969733473c": {
      "model_module": "@jupyter-widgets/controls",
      "model_module_version": "1.4.0",
      "model_name": "DescriptionStyleModel",
      "state": {
       "description_width": ""
      }
     },
     "7d12f16ef4f34b41b68a4409df2fde19": {
      "model_module": "@jupyter-widgets/controls",
      "model_module_version": "1.4.0",
      "model_name": "ProgressStyleModel",
      "state": {
       "description_width": ""
      }
     },
     "7d8d46f9c3844bb8a50471ab0b430283": {
      "model_module": "@jupyter-widgets/controls",
      "model_module_version": "1.4.0",
      "model_name": "IntProgressModel",
      "state": {
       "bar_style": "danger",
       "layout": "IPY_MODEL_6719a2ed3ffd4695b59423dcd7a5c786",
       "max": 1,
       "style": "IPY_MODEL_637dfa8721474338aa19926397c2ed11",
       "value": 1
      }
     },
     "7da4152170ef4cf0a35db1e37f1feb3a": {
      "model_module": "@jupyter-widgets/base",
      "model_module_version": "1.1.0",
      "model_name": "LayoutModel",
      "state": {}
     },
     "7da88e71d4834d5181e2e53a1e36ef61": {
      "model_module": "@jupyter-widgets/controls",
      "model_module_version": "1.4.0",
      "model_name": "HTMLModel",
      "state": {
       "layout": "IPY_MODEL_50aa70040fb34b348c82a3c6e0b5c94b",
       "style": "IPY_MODEL_c87e8099f3474641a013a68463cb177c",
       "value": "57986/|/| 57986/? [00:01&lt;00:00, 30071.31it/s]"
      }
     },
     "7f6bcb96db84440b884d2600f8159a4d": {
      "model_module": "@jupyter-widgets/controls",
      "model_module_version": "1.4.0",
      "model_name": "DescriptionStyleModel",
      "state": {
       "description_width": ""
      }
     },
     "82b9fbae552c4ad2b72a2cd275a76d31": {
      "model_module": "@jupyter-widgets/controls",
      "model_module_version": "1.4.0",
      "model_name": "HBoxModel",
      "state": {
       "children": [
        "IPY_MODEL_4e274e31ed15461ea8d73a0c36ba71a2",
        "IPY_MODEL_cd65560561c340dbb1548eb64fca67c3"
       ],
       "layout": "IPY_MODEL_e0484ede3c1b41f196761d9da2797817"
      }
     },
     "880bad69bd854c4c931ab3705c8db45d": {
      "model_module": "@jupyter-widgets/base",
      "model_module_version": "1.1.0",
      "model_name": "LayoutModel",
      "state": {}
     },
     "8a3d82c217e242c5af27890cfc9b595c": {
      "model_module": "@jupyter-widgets/controls",
      "model_module_version": "1.4.0",
      "model_name": "IntProgressModel",
      "state": {
       "bar_style": "danger",
       "layout": "IPY_MODEL_597f1b9a6714438091f4dde81815c211",
       "max": 1,
       "style": "IPY_MODEL_026694b4d9f94e4bbeff68248dfe0f07",
       "value": 1
      }
     },
     "8b3bacc6515e44658d1bc11d169f4f45": {
      "model_module": "@jupyter-widgets/controls",
      "model_module_version": "1.4.0",
      "model_name": "IntProgressModel",
      "state": {
       "bar_style": "success",
       "layout": "IPY_MODEL_d130c7c8ad704feeaae808beaf7a70d4",
       "max": 1,
       "style": "IPY_MODEL_5d22c31542c34048908baee88840b855",
       "value": 1
      }
     },
     "8d62098f816a4db1846e9b4e2f8ba93f": {
      "model_module": "@jupyter-widgets/controls",
      "model_module_version": "1.4.0",
      "model_name": "DescriptionStyleModel",
      "state": {
       "description_width": ""
      }
     },
     "8e83ce3b325047e2896b33b3c31e9dee": {
      "model_module": "@jupyter-widgets/base",
      "model_module_version": "1.1.0",
      "model_name": "LayoutModel",
      "state": {}
     },
     "8e8c4c85959a49a686cc88602126dbc0": {
      "model_module": "@jupyter-widgets/base",
      "model_module_version": "1.1.0",
      "model_name": "LayoutModel",
      "state": {}
     },
     "9288097671424839bfa1caad7dcf7a58": {
      "model_module": "@jupyter-widgets/controls",
      "model_module_version": "1.4.0",
      "model_name": "IntProgressModel",
      "state": {
       "bar_style": "danger",
       "layout": "IPY_MODEL_6514bfe52e5b485dafa2623b41d22153",
       "max": 1,
       "style": "IPY_MODEL_04e4035a1ee54f5782d7048acfb9cc83",
       "value": 1
      }
     },
     "946df404f8964e71ad7c4b8199461732": {
      "model_module": "@jupyter-widgets/controls",
      "model_module_version": "1.4.0",
      "model_name": "HBoxModel",
      "state": {
       "children": [
        "IPY_MODEL_0d494ac666444f838c262f163e152103",
        "IPY_MODEL_e69bb660c4344fe4bed89464ee08acca"
       ],
       "layout": "IPY_MODEL_def242387ff94293bdb954eaea947e2b"
      }
     },
     "97a6a15815a849b49ea3b73903ef7bbf": {
      "model_module": "@jupyter-widgets/controls",
      "model_module_version": "1.4.0",
      "model_name": "HBoxModel",
      "state": {
       "children": [
        "IPY_MODEL_419b592183354d2caecb970a1b086428",
        "IPY_MODEL_ba410b160a254fa9a918423d3e707c00"
       ],
       "layout": "IPY_MODEL_3d9fd93f879042ac8d7c890398811ed3"
      }
     },
     "985ec98b259848d38cbe2bc6460c11ae": {
      "model_module": "@jupyter-widgets/base",
      "model_module_version": "1.1.0",
      "model_name": "LayoutModel",
      "state": {}
     },
     "9dbd80d87665425b9e22fca48679722f": {
      "model_module": "@jupyter-widgets/base",
      "model_module_version": "1.1.0",
      "model_name": "LayoutModel",
      "state": {}
     },
     "9e0968cef529455994ae1222ae196451": {
      "model_module": "@jupyter-widgets/controls",
      "model_module_version": "1.4.0",
      "model_name": "HTMLModel",
      "state": {
       "layout": "IPY_MODEL_470c876463e545b2b2031eba3f5975e0",
       "style": "IPY_MODEL_7b604e46e42448bba1f3ea969733473c",
       "value": "57986/|/| 57986/? [00:01&lt;00:00, 29755.13it/s]"
      }
     },
     "a7cdab8daab24a39a56e9dd99315c15a": {
      "model_module": "@jupyter-widgets/base",
      "model_module_version": "1.1.0",
      "model_name": "LayoutModel",
      "state": {}
     },
     "a83bd9aad5e949bca9ed04da6a62849f": {
      "model_module": "@jupyter-widgets/base",
      "model_module_version": "1.1.0",
      "model_name": "LayoutModel",
      "state": {}
     },
     "abd051b53842465ebb62fdfd7e145138": {
      "model_module": "@jupyter-widgets/controls",
      "model_module_version": "1.4.0",
      "model_name": "IntProgressModel",
      "state": {
       "bar_style": "success",
       "layout": "IPY_MODEL_f08c4a5f88f3458a8aba0e1789298061",
       "max": 1,
       "style": "IPY_MODEL_b934073f3b204e8d89a60617a0f31549",
       "value": 1
      }
     },
     "b259ae1a5a04423d99f28012d8ff6387": {
      "model_module": "@jupyter-widgets/controls",
      "model_module_version": "1.4.0",
      "model_name": "IntProgressModel",
      "state": {
       "bar_style": "danger",
       "layout": "IPY_MODEL_0543cd5d5d7f4246a5b946c43b837163",
       "max": 1,
       "style": "IPY_MODEL_c94854439c8847508c8dbe7d90e350b7",
       "value": 1
      }
     },
     "b6aa3367899b4fc79f11aa0d0665bec2": {
      "model_module": "@jupyter-widgets/controls",
      "model_module_version": "1.4.0",
      "model_name": "HTMLModel",
      "state": {
       "layout": "IPY_MODEL_985ec98b259848d38cbe2bc6460c11ae",
       "style": "IPY_MODEL_8d62098f816a4db1846e9b4e2f8ba93f",
       "value": "1597/|/| 1597/? [00:57&lt;00:00, 36.28it/s]"
      }
     },
     "b8504562ab064b6a8c7ba20f908ce781": {
      "model_module": "@jupyter-widgets/controls",
      "model_module_version": "1.4.0",
      "model_name": "IntProgressModel",
      "state": {
       "bar_style": "success",
       "layout": "IPY_MODEL_59cac611f6b440c9b216dd387d8cbe16",
       "max": 1,
       "style": "IPY_MODEL_759f5cac79264561bb9c2174ae5e1cd5",
       "value": 1
      }
     },
     "b8f0247e0a504535afa476d3a0bee70b": {
      "model_module": "@jupyter-widgets/base",
      "model_module_version": "1.1.0",
      "model_name": "LayoutModel",
      "state": {}
     },
     "b934073f3b204e8d89a60617a0f31549": {
      "model_module": "@jupyter-widgets/controls",
      "model_module_version": "1.4.0",
      "model_name": "ProgressStyleModel",
      "state": {
       "description_width": ""
      }
     },
     "ba410b160a254fa9a918423d3e707c00": {
      "model_module": "@jupyter-widgets/controls",
      "model_module_version": "1.4.0",
      "model_name": "HTMLModel",
      "state": {
       "layout": "IPY_MODEL_61d464f2a4054ec8b6a4e5587b0160c5",
       "style": "IPY_MODEL_44907b1cfdee44299bf436874f99c81b",
       "value": "0/|/| 0/? [00:00&lt;?, ?it/s]"
      }
     },
     "bf6386c13f014d7b9e288dce7031adc9": {
      "model_module": "@jupyter-widgets/base",
      "model_module_version": "1.1.0",
      "model_name": "LayoutModel",
      "state": {}
     },
     "bf9bf4681f6042f5887f275283492aa3": {
      "model_module": "@jupyter-widgets/controls",
      "model_module_version": "1.4.0",
      "model_name": "HTMLModel",
      "state": {
       "layout": "IPY_MODEL_d24ebd5a21cc4c3b9e65450bb22a77d1",
       "style": "IPY_MODEL_c7398138ef2a4dff923644f56be26f9f",
       "value": "4700/|/| 4700/? [02:17&lt;00:00, 39.76it/s]"
      }
     },
     "c149923e8aaf4b28afc6ab8136b27921": {
      "model_module": "@jupyter-widgets/base",
      "model_module_version": "1.1.0",
      "model_name": "LayoutModel",
      "state": {}
     },
     "c1a5912e3f3f4edeac45c0dacd111b86": {
      "model_module": "@jupyter-widgets/controls",
      "model_module_version": "1.4.0",
      "model_name": "IntProgressModel",
      "state": {
       "bar_style": "success",
       "layout": "IPY_MODEL_bf6386c13f014d7b9e288dce7031adc9",
       "max": 1,
       "style": "IPY_MODEL_fe3fced930a547d39934897c0d6a3f84",
       "value": 1
      }
     },
     "c473f2ec9a1543f38983b2f93cad2013": {
      "model_module": "@jupyter-widgets/controls",
      "model_module_version": "1.4.0",
      "model_name": "ProgressStyleModel",
      "state": {
       "description_width": ""
      }
     },
     "c7398138ef2a4dff923644f56be26f9f": {
      "model_module": "@jupyter-widgets/controls",
      "model_module_version": "1.4.0",
      "model_name": "DescriptionStyleModel",
      "state": {
       "description_width": ""
      }
     },
     "c87e8099f3474641a013a68463cb177c": {
      "model_module": "@jupyter-widgets/controls",
      "model_module_version": "1.4.0",
      "model_name": "DescriptionStyleModel",
      "state": {
       "description_width": ""
      }
     },
     "c94854439c8847508c8dbe7d90e350b7": {
      "model_module": "@jupyter-widgets/controls",
      "model_module_version": "1.4.0",
      "model_name": "ProgressStyleModel",
      "state": {
       "description_width": ""
      }
     },
     "c981a4090226425db509500883eb1445": {
      "model_module": "@jupyter-widgets/controls",
      "model_module_version": "1.4.0",
      "model_name": "DescriptionStyleModel",
      "state": {
       "description_width": ""
      }
     },
     "ca7208f102434e64afa6dd83b5a4f8d1": {
      "model_module": "@jupyter-widgets/base",
      "model_module_version": "1.1.0",
      "model_name": "LayoutModel",
      "state": {}
     },
     "cac0c6b7900148ca9e1ecbebfd6d167a": {
      "model_module": "@jupyter-widgets/controls",
      "model_module_version": "1.4.0",
      "model_name": "HBoxModel",
      "state": {
       "children": [
        "IPY_MODEL_f731ffc7af0e4dec98ddd846c74c9a36",
        "IPY_MODEL_26e21ac3ccda4d7ab9c0f9e605774e99"
       ],
       "layout": "IPY_MODEL_2f529b40b89b453e846d5b4baf852568"
      }
     },
     "cd65560561c340dbb1548eb64fca67c3": {
      "model_module": "@jupyter-widgets/controls",
      "model_module_version": "1.4.0",
      "model_name": "HTMLModel",
      "state": {
       "layout": "IPY_MODEL_8e8c4c85959a49a686cc88602126dbc0",
       "style": "IPY_MODEL_76116494bdb24d1db8348e6ae921e831",
       "value": "59276/|/| 59276/? [21:43&lt;00:00, 46.46it/s]"
      }
     },
     "d130c7c8ad704feeaae808beaf7a70d4": {
      "model_module": "@jupyter-widgets/base",
      "model_module_version": "1.1.0",
      "model_name": "LayoutModel",
      "state": {}
     },
     "d2239d0517494390bd2d624a07a98964": {
      "model_module": "@jupyter-widgets/controls",
      "model_module_version": "1.4.0",
      "model_name": "DescriptionStyleModel",
      "state": {
       "description_width": ""
      }
     },
     "d24ebd5a21cc4c3b9e65450bb22a77d1": {
      "model_module": "@jupyter-widgets/base",
      "model_module_version": "1.1.0",
      "model_name": "LayoutModel",
      "state": {}
     },
     "d41dd53136924bdd8d23526f83b0a057": {
      "model_module": "@jupyter-widgets/base",
      "model_module_version": "1.1.0",
      "model_name": "LayoutModel",
      "state": {}
     },
     "d5d80f772c81461e967c6be9abb865a7": {
      "model_module": "@jupyter-widgets/controls",
      "model_module_version": "1.4.0",
      "model_name": "DescriptionStyleModel",
      "state": {
       "description_width": ""
      }
     },
     "d76700b742264b47ac63144cf00ca09e": {
      "model_module": "@jupyter-widgets/base",
      "model_module_version": "1.1.0",
      "model_name": "LayoutModel",
      "state": {}
     },
     "da10fff14a894013bdf8aa462828dd96": {
      "model_module": "@jupyter-widgets/base",
      "model_module_version": "1.1.0",
      "model_name": "LayoutModel",
      "state": {}
     },
     "def242387ff94293bdb954eaea947e2b": {
      "model_module": "@jupyter-widgets/base",
      "model_module_version": "1.1.0",
      "model_name": "LayoutModel",
      "state": {}
     },
     "df034a1b6a714d7d8c359bc6212b03d5": {
      "model_module": "@jupyter-widgets/controls",
      "model_module_version": "1.4.0",
      "model_name": "HBoxModel",
      "state": {
       "children": [
        "IPY_MODEL_abd051b53842465ebb62fdfd7e145138",
        "IPY_MODEL_7da88e71d4834d5181e2e53a1e36ef61"
       ],
       "layout": "IPY_MODEL_c149923e8aaf4b28afc6ab8136b27921"
      }
     },
     "dfae8f8255f74b8cb0b443fb5e3ee13e": {
      "model_module": "@jupyter-widgets/controls",
      "model_module_version": "1.4.0",
      "model_name": "DescriptionStyleModel",
      "state": {
       "description_width": ""
      }
     },
     "e0484ede3c1b41f196761d9da2797817": {
      "model_module": "@jupyter-widgets/base",
      "model_module_version": "1.1.0",
      "model_name": "LayoutModel",
      "state": {}
     },
     "e350d4bbbc254d93bb24c306bfe098d4": {
      "model_module": "@jupyter-widgets/base",
      "model_module_version": "1.1.0",
      "model_name": "LayoutModel",
      "state": {}
     },
     "e3d19e7a63c749b79e59cffd950947fe": {
      "model_module": "@jupyter-widgets/controls",
      "model_module_version": "1.4.0",
      "model_name": "HBoxModel",
      "state": {
       "children": [
        "IPY_MODEL_8a3d82c217e242c5af27890cfc9b595c",
        "IPY_MODEL_150b9777ed374deea853b3a861f258db"
       ],
       "layout": "IPY_MODEL_0742f0239399414aa387acfc0069a1ff"
      }
     },
     "e69bb660c4344fe4bed89464ee08acca": {
      "model_module": "@jupyter-widgets/controls",
      "model_module_version": "1.4.0",
      "model_name": "HTMLModel",
      "state": {
       "layout": "IPY_MODEL_625b5995fb784fe6a70bb2267e7e9b08",
       "style": "IPY_MODEL_7f6bcb96db84440b884d2600f8159a4d",
       "value": "292/|/| 292/? [00:23&lt;00:00, 52.14it/s]"
      }
     },
     "e901f8fee4894261b6ff951e5a7a9f75": {
      "model_module": "@jupyter-widgets/base",
      "model_module_version": "1.1.0",
      "model_name": "LayoutModel",
      "state": {}
     },
     "f08c4a5f88f3458a8aba0e1789298061": {
      "model_module": "@jupyter-widgets/base",
      "model_module_version": "1.1.0",
      "model_name": "LayoutModel",
      "state": {}
     },
     "f0a05e7c939443d598d220ddd7410999": {
      "model_module": "@jupyter-widgets/controls",
      "model_module_version": "1.4.0",
      "model_name": "IntProgressModel",
      "state": {
       "bar_style": "danger",
       "layout": "IPY_MODEL_100f70f29c6941edbada2d48c24c6963",
       "max": 1,
       "style": "IPY_MODEL_f61da7afd5f14a6398d3469a86ddfd8e",
       "value": 1
      }
     },
     "f3ee5eccc47541858cb383030a33bfee": {
      "model_module": "@jupyter-widgets/base",
      "model_module_version": "1.1.0",
      "model_name": "LayoutModel",
      "state": {}
     },
     "f3f7c81f9dcb4ebba94a01b6a8f3ffd4": {
      "model_module": "@jupyter-widgets/controls",
      "model_module_version": "1.4.0",
      "model_name": "HTMLModel",
      "state": {
       "layout": "IPY_MODEL_d76700b742264b47ac63144cf00ca09e",
       "style": "IPY_MODEL_c981a4090226425db509500883eb1445",
       "value": "392/|/| 392/? [00:30&lt;00:00, 38.50it/s]"
      }
     },
     "f55d54bfb6b0474696e4dedd932e1876": {
      "model_module": "@jupyter-widgets/controls",
      "model_module_version": "1.4.0",
      "model_name": "HBoxModel",
      "state": {
       "children": [
        "IPY_MODEL_f0a05e7c939443d598d220ddd7410999",
        "IPY_MODEL_b6aa3367899b4fc79f11aa0d0665bec2"
       ],
       "layout": "IPY_MODEL_548a7475ce7042b18cbcf8c92559b75c"
      }
     },
     "f61da7afd5f14a6398d3469a86ddfd8e": {
      "model_module": "@jupyter-widgets/controls",
      "model_module_version": "1.4.0",
      "model_name": "ProgressStyleModel",
      "state": {
       "description_width": ""
      }
     },
     "f7123061abbb4c8ebeaac263a1736732": {
      "model_module": "@jupyter-widgets/controls",
      "model_module_version": "1.4.0",
      "model_name": "HTMLModel",
      "state": {
       "layout": "IPY_MODEL_32a4219b07264a9b9c0112764b6cee24",
       "style": "IPY_MODEL_d5d80f772c81461e967c6be9abb865a7",
       "value": "0/|/| 0/? [00:00&lt;?, ?it/s]"
      }
     },
     "f731ffc7af0e4dec98ddd846c74c9a36": {
      "model_module": "@jupyter-widgets/controls",
      "model_module_version": "1.4.0",
      "model_name": "IntProgressModel",
      "state": {
       "bar_style": "success",
       "layout": "IPY_MODEL_431a4f792d674287acc1407e1378e7f3",
       "max": 1,
       "style": "IPY_MODEL_56139ed82e504afaa6cd464b798de0fa",
       "value": 1
      }
     },
     "f8680623045044c28cce4e2cef797d65": {
      "model_module": "@jupyter-widgets/controls",
      "model_module_version": "1.4.0",
      "model_name": "ProgressStyleModel",
      "state": {
       "description_width": ""
      }
     },
     "f99aae328c1e40059b3921351829ba4e": {
      "model_module": "@jupyter-widgets/controls",
      "model_module_version": "1.4.0",
      "model_name": "ProgressStyleModel",
      "state": {
       "description_width": ""
      }
     },
     "fb7687ed12534a1984add947811aed30": {
      "model_module": "@jupyter-widgets/controls",
      "model_module_version": "1.4.0",
      "model_name": "HBoxModel",
      "state": {
       "children": [
        "IPY_MODEL_9288097671424839bfa1caad7dcf7a58",
        "IPY_MODEL_f3f7c81f9dcb4ebba94a01b6a8f3ffd4"
       ],
       "layout": "IPY_MODEL_168c443e98bd41768d77e8cbb400c3b0"
      }
     },
     "fe3fced930a547d39934897c0d6a3f84": {
      "model_module": "@jupyter-widgets/controls",
      "model_module_version": "1.4.0",
      "model_name": "ProgressStyleModel",
      "state": {
       "description_width": ""
      }
     }
    },
    "version_major": 2,
    "version_minor": 0
   }
  }
 },
 "nbformat": 4,
 "nbformat_minor": 2
}
