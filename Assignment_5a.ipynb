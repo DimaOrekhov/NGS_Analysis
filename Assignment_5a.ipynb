{
 "cells": [
  {
   "cell_type": "code",
   "execution_count": 49,
   "metadata": {},
   "outputs": [],
   "source": [
    "import pysam\n",
    "from collections import defaultdict, namedtuple\n",
    "from tqdm import tqdm_notebook\n",
    "import gc\n",
    "from Bio import SeqIO\n",
    "from Bio.Seq import Seq\n",
    "from Bio.SeqRecord import SeqRecord\n",
    "import pygraphviz as pvg\n",
    "import matplotlib.pyplot as plt\n",
    "from os import path\n",
    "from time import time\n",
    "from copy import deepcopy\n",
    "import numpy as np\n",
    "import seaborn as sns\n",
    "import warnings\n",
    "warnings.filterwarnings('ignore')\n",
    "\n",
    "class Node:\n",
    "    \n",
    "    def __init__(self, name):\n",
    "        self.name = name\n",
    "        self.indegree = 0\n",
    "        self.outdegree = 0\n",
    "        self.in_edges = []\n",
    "        self.out_edges = []\n",
    "        \n",
    "        #Deepcopies for experimenting\n",
    "        #Implement later\n",
    "        self.tv_edges = None\n",
    "        self.tv_nodes = None\n",
    "    \n",
    "class Edge:\n",
    "    \n",
    "    def __init__(self, elen, cov=0):\n",
    "        self.cov = cov\n",
    "        self.len = elen\n",
    "\n",
    "class DeBruijn:\n",
    "    \n",
    "    def __init__(self, data, k):\n",
    "        self.k = k\n",
    "        self.data = data\n",
    "        self.format = data[-data[::-1].find('.'):]\n",
    "        self.nodes = {}\n",
    "        self.edges = defaultdict(lambda: Edge(self.k+1))\n",
    "        self.vised = False\n",
    "    \n",
    "    def get_rev_comp(self, string):\n",
    "        comp_dic = {'A': 'T', 'T': 'A', 'C': 'G', 'G': 'C'}\n",
    "        rev_comp = ''.join([comp_dic[ch] for ch in string][::-1])\n",
    "        return rev_comp\n",
    "    \n",
    "    def add_node(self, string):\n",
    "        self.nodes[string] = Node(string)\n",
    "    \n",
    "    def add_edge(self, string):\n",
    "        self.edges[string].cov += 1\n",
    "        if self.edges[string].cov == 1:\n",
    "            self.nodes[string[:-1]].outdegree += 1\n",
    "            self.nodes[string[:-1]].out_edges.append(string)\n",
    "            self.nodes[string[1:]].indegree += 1\n",
    "            self.nodes[string[1:]].in_edges.append(string)\n",
    "    \n",
    "    def add_nodes_fasta(self):\n",
    "        with pysam.FastaFile(self.data) as file:\n",
    "            for read_id in tqdm_notebook(file.references):\n",
    "                sequence = file.fetch(read_id)\n",
    "                \n",
    "                for i in range(len(sequence) - self.k + 1):\n",
    "                    kmer = sequence[i:i+self.k]\n",
    "                    rev_kmer = self.get_rev_comp(kmer)\n",
    "                    if not (kmer in self.nodes):\n",
    "                        self.add_node(kmer)\n",
    "                        self.add_node(rev_kmer)\n",
    "        \n",
    "    def add_edges_fasta(self):\n",
    "        with pysam.FastaFile(self.data) as file:\n",
    "            for read_id in tqdm_notebook(file.references):\n",
    "                sequence = file.fetch(read_id)\n",
    "                \n",
    "                for i in range(len(sequence) - self.k):\n",
    "                    kmer = sequence[i:i+self.k+1]\n",
    "                    rev_kmer = self.get_rev_comp(kmer)\n",
    "                    self.add_edge(kmer)\n",
    "                    self.add_edge(rev_kmer)\n",
    "                    \n",
    "    def add_nodes_fastq(self):\n",
    "        with pysam.FastqFile(self.data) as file:\n",
    "            for read in tqdm_notebook(file):  \n",
    "                sequence = read.sequence\n",
    "                \n",
    "                for i in range(len(sequence) - self.k + 1):\n",
    "                    kmer = sequence[i:i+self.k]\n",
    "                    rev_kmer = self.get_rev_comp(kmer)\n",
    "                    if not (kmer in self.nodes):\n",
    "                        self.add_node(kmer)\n",
    "                        self.add_node(rev_kmer)\n",
    "        \n",
    "    def add_edges_fastq(self):\n",
    "        with pysam.FastqFile(self.data) as file:\n",
    "            for read in tqdm_notebook(file):\n",
    "                sequence = read.sequence\n",
    "                \n",
    "                for i in range(len(sequence) - self.k):\n",
    "                    kmer = sequence[i:i+self.k+1]\n",
    "                    rev_kmer = self.get_rev_comp(kmer)\n",
    "                    self.add_edge(kmer)\n",
    "                    self.add_edge(rev_kmer)\n",
    "                \n",
    "    def construct(self):\n",
    "        if self.format == 'fasta':\n",
    "            self.add_nodes_fasta()\n",
    "            self.add_edges_fasta()\n",
    "        elif self.format == 'fastq':\n",
    "            self.add_nodes_fastq()\n",
    "            self.add_edges_fastq()\n",
    "        else:\n",
    "            raise ValueError('Wrong file format')\n",
    "        \n",
    "    def merge_edges(self, node):\n",
    "        \n",
    "        o_edge_id = node.out_edges[0]\n",
    "        i_edge_id = node.in_edges[0]\n",
    "        o_edge = self.edges[o_edge_id]\n",
    "        i_edge = self.edges[i_edge_id]\n",
    "        \n",
    "        n_edge = i_edge_id + o_edge_id[self.k:]\n",
    "        n_cov = o_edge.cov + i_edge.cov\n",
    "        n_len = i_edge.len + o_edge.len - self.k\n",
    "        \n",
    "        self.nodes[o_edge_id[-self.k:]].in_edges.remove(o_edge_id)\n",
    "        self.nodes[o_edge_id[-self.k:]].in_edges.append(n_edge)\n",
    "        self.nodes[i_edge_id[:self.k]].out_edges.remove(i_edge_id)\n",
    "        self.nodes[i_edge_id[:self.k]].out_edges.append(n_edge)\n",
    "        \n",
    "        self.edges[n_edge] = Edge(n_len, n_cov)\n",
    "        \n",
    "        del self.nodes[node.name]\n",
    "        del self.edges[o_edge_id]\n",
    "        del self.edges[i_edge_id]\n",
    "        \n",
    "    def compress(self):\n",
    "        nl = list(self.nodes.keys())\n",
    "        for node_name in tqdm_notebook(nl):\n",
    "            node = self.nodes[node_name]\n",
    "            if (node.indegree == 1) and (node.outdegree == 1):\n",
    "                self.merge_edges(node)\n",
    "        gc.collect()\n",
    "        for edge in self.edges:\n",
    "            self.edges[edge].cov = round(self.edges[edge].cov/(self.edges[edge].len - self.k))\n",
    "        self.node_names = {name: i for i, name in enumerate(self.nodes.keys())}\n",
    "    \n",
    "    def vis(self):\n",
    "        self.graph = pvg.AGraph(strict=False, directed=True)\n",
    "        added = []\n",
    "        for name, v in self.edges.items():\n",
    "            ls = f'Length: {v.len}\\nCoverage: {v.cov}'\n",
    "            self.graph.add_edge(self.node_names[name[:self.k]], \n",
    "                                self.node_names[name[-self.k:]], \n",
    "                                label=ls)\n",
    "            added.append(name[:self.k])\n",
    "            added.append(name[-self.k])\n",
    "        '''    \n",
    "        for n_name in node_names:\n",
    "            if not (n_name in added):\n",
    "                self.graph.add_node(node_names[n_name])\n",
    "        '''\n",
    "        self.vised = True\n",
    "            \n",
    "    def cov_and_len_dist(self, bins=10, joint=True):\n",
    "        covs = []\n",
    "        lens = []\n",
    "        for _, edge in self.edges.items():\n",
    "            covs.append(edge.cov)\n",
    "            lens.append(edge.len)\n",
    "            \n",
    "        covs = np.array(covs)\n",
    "        lens = np.array(lens)\n",
    "        \n",
    "        if not joint:\n",
    "            fig, axarr = plt.subplots(1, 2, figsize = [16, 9])\n",
    "            fig.suptitle('Coverage and length of edges')\n",
    "            axarr[0].hist(covs, bins=bins)\n",
    "            axarr[0].set_xlabel('Coverage')\n",
    "            axarr[1].hist(lens, bins=bins)\n",
    "            axarr[1].set_xlabel('Length')\n",
    "        else:\n",
    "            (sns.jointplot(x=covs, y=lens)).\\\n",
    "            set_axis_labels('Coverage', 'Length')\n",
    "\n",
    "    def cut_tips(self, cov_cut, len_cut):\n",
    "        self.vised = False\n",
    "        modded = True\n",
    "        while modded != 0:\n",
    "            modded = 0\n",
    "            items = list(self.nodes.items())\n",
    "            for node_name, node in items:\n",
    "                if (node.outdegree + node.indegree) == 1:\n",
    "                    assert(len(node.in_edges + node.out_edges) == 1)\n",
    "                    edge_name = (node.in_edges + node.out_edges)[0]\n",
    "                    edge = self.edges[edge_name]\n",
    "                    if (edge.cov <= cov_cut) and (edge.len <= len_cut):\n",
    "                        if node.outdegree == 1:\n",
    "                            self.nodes[edge_name[-self.k:]].in_edges.remove(edge_name)\n",
    "                            self.nodes[edge_name[-self.k:]].indegree -= 1\n",
    "                            if self.nodes[edge_name[-self.k:]].outdegree == 0:\n",
    "                                del self.nodes[edge_name[-self.k:]]\n",
    "                            self.nodes[node_name].out_edges = []\n",
    "                            self.nodes[node_name].outdegree = 0\n",
    "                        elif node.indegree == 1:\n",
    "                            self.nodes[edge_name[:self.k]].out_edges.remove(edge_name)\n",
    "                            self.nodes[edge_name[:self.k]].outdegree -= 1\n",
    "                            if self.nodes[edge_name[:self.k]].indegree == 0:\n",
    "                                del self.nodes[edge_name[:self.k]]\n",
    "                            self.nodes[node_name].in_edges = []\n",
    "                            self.nodes[node_name].indegree = 0\n",
    "                        \n",
    "                        del self.nodes[node_name]\n",
    "                        \n",
    "                        del self.edges[edge_name]\n",
    "                        modded += 1\n",
    "        \n",
    "    def cut_all_low(self, cov_cut, len_cut):\n",
    "        self.vised = False\n",
    "        items = list(self.nodes.items())\n",
    "        for node_name, node in items:\n",
    "            if (node.indegree + node.outdegree) != 0:\n",
    "                edge_name = (node.in_edges + node.out_edges)[0]\n",
    "                edge = self.edges[edge_name] \n",
    "                if (edge.cov <= cov_cut) and (edge.len <= len_cut):\n",
    "\n",
    "                    self.nodes[edge_name[:self.k]].out_edges.remove(edge_name)\n",
    "                    self.nodes[edge_name[:self.k]].outdegree -= 1\n",
    "\n",
    "                    self.nodes[edge_name[-self.k:]].in_edges.remove(edge_name)\n",
    "                    self.nodes[edge_name[-self.k:]].indegree -= 1\n",
    "\n",
    "                    del self.edges[edge_name]\n",
    "            else:\n",
    "                #maybe delete such node?\n",
    "                #or do it later\n",
    "                pass\n",
    "                \n",
    "    def write_to_fasta(self, output):\n",
    "        records = (SeqRecord(Seq(k, 'DNA'), str(i)) for i, k in enumerate(self.edges))\n",
    "        SeqIO.write(records, output, 'fasta')\n",
    "    \n",
    "    def draw(self, output):\n",
    "        if not self.vised:\n",
    "            self.vis()\n",
    "        self.graph.draw(output, prog='dot')\n",
    "    \n",
    "    def write_to_dot(self, output):\n",
    "        if not self.vised:\n",
    "            self.vis()\n",
    "        self.graph.write(output)"
   ]
  },
  {
   "cell_type": "markdown",
   "metadata": {},
   "source": [
    "Setting up paths to data:"
   ]
  },
  {
   "cell_type": "code",
   "execution_count": 3,
   "metadata": {},
   "outputs": [],
   "source": [
    "test_1 = 'Data/Assignment_5/test1.fasta'\n",
    "test_2 = 'Data/Assignment_5/test2.fasta'\n",
    "\n",
    "ec1 = 'Data/Assignment_5/ECOLI_IS220_QUAKE_1K_single_reads.fasta'\n",
    "ec2 = 'Data/Assignment_5/ECOLI_IS220_QUAKE_1K_paired_reads.fasta'\n",
    "\n",
    "f1 = 'Data/Assignment_5/s_6.first1000.fastq'\n",
    "f2 = 'Data/Assignment_5/s_6.first10000.fastq'\n",
    "f3 = 'Data/Assignment_5/s_6.first100000.fastq'"
   ]
  },
  {
   "cell_type": "code",
   "execution_count": 73,
   "metadata": {},
   "outputs": [],
   "source": [
    "res_f_path = 'FASTA/'\n",
    "res_i_path = 'Images/'\n",
    "res_d_path = 'DOT_files/'"
   ]
  },
  {
   "cell_type": "markdown",
   "metadata": {},
   "source": [
    "## 1k data:"
   ]
  },
  {
   "cell_type": "code",
   "execution_count": 50,
   "metadata": {},
   "outputs": [
    {
     "data": {
      "application/vnd.jupyter.widget-view+json": {
       "model_id": "a3d3fc5b089149fbacfd4ad9b8fdc313",
       "version_major": 2,
       "version_minor": 0
      },
      "text/plain": [
       "HBox(children=(IntProgress(value=1, bar_style='info', max=1), HTML(value='')))"
      ]
     },
     "metadata": {},
     "output_type": "display_data"
    },
    {
     "name": "stdout",
     "output_type": "stream",
     "text": [
      "\n"
     ]
    },
    {
     "data": {
      "application/vnd.jupyter.widget-view+json": {
       "model_id": "ae89b689e70347d28e1490fd6048f124",
       "version_major": 2,
       "version_minor": 0
      },
      "text/plain": [
       "HBox(children=(IntProgress(value=1, bar_style='info', max=1), HTML(value='')))"
      ]
     },
     "metadata": {},
     "output_type": "display_data"
    },
    {
     "name": "stdout",
     "output_type": "stream",
     "text": [
      "\n"
     ]
    },
    {
     "data": {
      "application/vnd.jupyter.widget-view+json": {
       "model_id": "e40c797c35374ecca0cb9578e3b9ad09",
       "version_major": 2,
       "version_minor": 0
      },
      "text/plain": [
       "HBox(children=(IntProgress(value=0, max=1884), HTML(value='')))"
      ]
     },
     "metadata": {},
     "output_type": "display_data"
    },
    {
     "name": "stdout",
     "output_type": "stream",
     "text": [
      "\n",
      "1.407 seconds\n"
     ]
    }
   ],
   "source": [
    "s = time()\n",
    "g = DeBruijn(f1, 55)\n",
    "g.construct()\n",
    "g.compress()\n",
    "print(f'{round(time() - s, 3)} seconds')"
   ]
  },
  {
   "cell_type": "code",
   "execution_count": 11,
   "metadata": {},
   "outputs": [],
   "source": [
    "g.draw(path.join(res_i_path, '1k.png'))"
   ]
  },
  {
   "cell_type": "markdown",
   "metadata": {},
   "source": [
    "Here is the raw compressed graph:\n",
    "\n",
    "\n",
    "![image](Images/1k.png)"
   ]
  },
  {
   "cell_type": "markdown",
   "metadata": {},
   "source": [
    "Cutting tips only:"
   ]
  },
  {
   "cell_type": "code",
   "execution_count": 12,
   "metadata": {},
   "outputs": [],
   "source": [
    "g.cut_tips(cov_cut=250, len_cut=200)"
   ]
  },
  {
   "cell_type": "code",
   "execution_count": 13,
   "metadata": {},
   "outputs": [],
   "source": [
    "g.draw(path.join(res_i_path, '1k_prunned.png'))"
   ]
  },
  {
   "cell_type": "markdown",
   "metadata": {},
   "source": [
    "![image](Images/1k_prunned.png)"
   ]
  },
  {
   "cell_type": "markdown",
   "metadata": {},
   "source": [
    "Cutting all short edges with low coverage."
   ]
  },
  {
   "cell_type": "code",
   "execution_count": 14,
   "metadata": {},
   "outputs": [],
   "source": [
    "g.cut_all_low(cov_cut=250, len_cut=200)"
   ]
  },
  {
   "cell_type": "code",
   "execution_count": 15,
   "metadata": {},
   "outputs": [],
   "source": [
    "g.draw(path.join(res_i_path, '1k_allcut.png'))"
   ]
  },
  {
   "cell_type": "markdown",
   "metadata": {},
   "source": [
    "![image](Images/1k_allcut.png)"
   ]
  },
  {
   "cell_type": "markdown",
   "metadata": {},
   "source": [
    "Graphs above illustrate why it is more reasonable to cut only the tips and not all the edges with low coverage and length. Sometimes edges that connect parts of the genome we assembly are connected with such edges. If they are deleted the assembly graph breaks into small components."
   ]
  },
  {
   "cell_type": "markdown",
   "metadata": {},
   "source": [
    "## 10k data:"
   ]
  },
  {
   "cell_type": "code",
   "execution_count": 52,
   "metadata": {},
   "outputs": [
    {
     "data": {
      "application/vnd.jupyter.widget-view+json": {
       "model_id": "e3701a84e5074d9691e23b4b4e193e2f",
       "version_major": 2,
       "version_minor": 0
      },
      "text/plain": [
       "HBox(children=(IntProgress(value=1, bar_style='info', max=1), HTML(value='')))"
      ]
     },
     "metadata": {},
     "output_type": "display_data"
    },
    {
     "name": "stdout",
     "output_type": "stream",
     "text": [
      "\n"
     ]
    },
    {
     "data": {
      "application/vnd.jupyter.widget-view+json": {
       "model_id": "f22e662768814d61895e399b06168d33",
       "version_major": 2,
       "version_minor": 0
      },
      "text/plain": [
       "HBox(children=(IntProgress(value=1, bar_style='info', max=1), HTML(value='')))"
      ]
     },
     "metadata": {},
     "output_type": "display_data"
    },
    {
     "name": "stdout",
     "output_type": "stream",
     "text": [
      "\n"
     ]
    },
    {
     "data": {
      "application/vnd.jupyter.widget-view+json": {
       "model_id": "37f52c71250f4923bb429e647957be05",
       "version_major": 2,
       "version_minor": 0
      },
      "text/plain": [
       "HBox(children=(IntProgress(value=0, max=20076), HTML(value='')))"
      ]
     },
     "metadata": {},
     "output_type": "display_data"
    },
    {
     "name": "stdout",
     "output_type": "stream",
     "text": [
      "\n",
      "18.792 seconds\n"
     ]
    }
   ],
   "source": [
    "s = time()\n",
    "g = DeBruijn(f2, 55)\n",
    "g.construct()\n",
    "g.compress()\n",
    "print(f'{round(time() - s, 3)} seconds')"
   ]
  },
  {
   "cell_type": "code",
   "execution_count": 53,
   "metadata": {},
   "outputs": [],
   "source": [
    "g.draw(path.join(res_i_path, '10k.png'))"
   ]
  },
  {
   "cell_type": "markdown",
   "metadata": {},
   "source": [
    "![image](Images/10k.png)"
   ]
  },
  {
   "cell_type": "code",
   "execution_count": 54,
   "metadata": {},
   "outputs": [
    {
     "data": {
      "image/png": "[encoded data removed]",
      "text/plain": [
       "<Figure size 432x432 with 3 Axes>"
      ]
     },
     "metadata": {},
     "output_type": "display_data"
    }
   ],
   "source": [
    "g.cov_and_len_dist()"
   ]
  },
  {
   "cell_type": "code",
   "execution_count": 58,
   "metadata": {},
   "outputs": [],
   "source": [
    "g.cut_tips(cov_cut=150, len_cut=250)"
   ]
  },
  {
   "cell_type": "code",
   "execution_count": 59,
   "metadata": {},
   "outputs": [],
   "source": [
    "g.draw(path.join(res_i_path, '10k_prunned.png'))"
   ]
  },
  {
   "cell_type": "markdown",
   "metadata": {},
   "source": [
    "![image](Images/10k_prunned.png)"
   ]
  },
  {
   "cell_type": "markdown",
   "metadata": {},
   "source": [
    "Again, let's see what will happen if we trim all the low covered short edges:"
   ]
  },
  {
   "cell_type": "code",
   "execution_count": 60,
   "metadata": {},
   "outputs": [],
   "source": [
    "g.cut_all_low(cov_cut=150, len_cut=250)"
   ]
  },
  {
   "cell_type": "code",
   "execution_count": 61,
   "metadata": {},
   "outputs": [],
   "source": [
    "g.draw(path.join(res_i_path, '10k_allcut.png'))"
   ]
  },
  {
   "cell_type": "markdown",
   "metadata": {},
   "source": [
    "![image](Images/10k_allcut.png)"
   ]
  },
  {
   "cell_type": "markdown",
   "metadata": {},
   "source": [
    "## 100k data:"
   ]
  },
  {
   "cell_type": "code",
   "execution_count": 62,
   "metadata": {},
   "outputs": [],
   "source": [
    "g = DeBruijn(f3, 55)"
   ]
  },
  {
   "cell_type": "code",
   "execution_count": 63,
   "metadata": {},
   "outputs": [
    {
     "data": {
      "application/vnd.jupyter.widget-view+json": {
       "model_id": "91c3b92267ec4473b28f2a3d5201493b",
       "version_major": 2,
       "version_minor": 0
      },
      "text/plain": [
       "HBox(children=(IntProgress(value=1, bar_style='info', max=1), HTML(value='')))"
      ]
     },
     "metadata": {},
     "output_type": "display_data"
    },
    {
     "name": "stdout",
     "output_type": "stream",
     "text": [
      "\n"
     ]
    },
    {
     "data": {
      "application/vnd.jupyter.widget-view+json": {
       "model_id": "594f700493e246f783f52f8a29d135b1",
       "version_major": 2,
       "version_minor": 0
      },
      "text/plain": [
       "HBox(children=(IntProgress(value=1, bar_style='info', max=1), HTML(value='')))"
      ]
     },
     "metadata": {},
     "output_type": "display_data"
    },
    {
     "name": "stdout",
     "output_type": "stream",
     "text": [
      "\n"
     ]
    },
    {
     "data": {
      "application/vnd.jupyter.widget-view+json": {
       "model_id": "2afb3dce12064f0b98e927466667e641",
       "version_major": 2,
       "version_minor": 0
      },
      "text/plain": [
       "HBox(children=(IntProgress(value=0, max=204232), HTML(value='')))"
      ]
     },
     "metadata": {},
     "output_type": "display_data"
    },
    {
     "name": "stdout",
     "output_type": "stream",
     "text": [
      "\n",
      "219.274 seconds\n"
     ]
    }
   ],
   "source": [
    "s = time()\n",
    "g.construct()\n",
    "g.compress()\n",
    "print(f'{round(time() - s, 3)} seconds')"
   ]
  },
  {
   "cell_type": "code",
   "execution_count": 64,
   "metadata": {},
   "outputs": [],
   "source": [
    "g.draw(path.join(res_i_path, '100k.png'))"
   ]
  },
  {
   "cell_type": "markdown",
   "metadata": {},
   "source": [
    "![image](Images/100k.png)"
   ]
  },
  {
   "cell_type": "code",
   "execution_count": 65,
   "metadata": {},
   "outputs": [
    {
     "data": {
      "image/png": "[encoded data removed]",
      "text/plain": [
       "<Figure size 432x432 with 3 Axes>"
      ]
     },
     "metadata": {},
     "output_type": "display_data"
    }
   ],
   "source": [
    "g.cov_and_len_dist()"
   ]
  },
  {
   "cell_type": "code",
   "execution_count": 66,
   "metadata": {},
   "outputs": [],
   "source": [
    "g.cut_tips(cov_cut=250, len_cut=250)"
   ]
  },
  {
   "cell_type": "code",
   "execution_count": 67,
   "metadata": {},
   "outputs": [],
   "source": [
    "g.draw(path.join(res_i_path, '100k_prunned.png'))"
   ]
  },
  {
   "cell_type": "markdown",
   "metadata": {},
   "source": [
    "![image](Images/100k_prunned.png)"
   ]
  },
  {
   "cell_type": "markdown",
   "metadata": {},
   "source": [
    "Edges of the resulting graph can be imported to .fasta file:"
   ]
  },
  {
   "cell_type": "code",
   "execution_count": 68,
   "metadata": {},
   "outputs": [],
   "source": [
    "g.write_to_fasta(path.join(res_f_path, '100k_prunned.fasta'))"
   ]
  },
  {
   "cell_type": "markdown",
   "metadata": {},
   "source": [
    "And also to .dot file format:"
   ]
  },
  {
   "cell_type": "code",
   "execution_count": 69,
   "metadata": {},
   "outputs": [],
   "source": [
    "g.write_to_dot(path.join(res_d_path, '100k_prunned.dot'))"
   ]
  }
 ],
 "metadata": {
  "kernelspec": {
   "display_name": "Python 3",
   "language": "python",
   "name": "python3"
  },
  "language_info": {
   "codemirror_mode": {
    "name": "ipython",
    "version": 3
   },
   "file_extension": ".py",
   "mimetype": "text/x-python",
   "name": "python",
   "nbconvert_exporter": "python",
   "pygments_lexer": "ipython3",
   "version": "3.6.8"
  }
 },
 "nbformat": 4,
 "nbformat_minor": 2
}
