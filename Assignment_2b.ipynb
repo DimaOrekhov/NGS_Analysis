{
 "cells": [
  {
   "cell_type": "code",
   "execution_count": 113,
   "metadata": {},
   "outputs": [],
   "source": [
    "import pysam\n",
    "import numpy as np\n",
    "import pandas as pd\n",
    "from tqdm import tqdm_notebook\n",
    "from os import path\n",
    "import matplotlib.pyplot as plt\n",
    "import seaborn as sns\n",
    "import time\n",
    "import gc\n",
    "import warnings\n",
    "warnings.filterwarnings(\"ignore\")"
   ]
  },
  {
   "cell_type": "code",
   "execution_count": null,
   "metadata": {},
   "outputs": [],
   "source": [
    "def get_coverage(bam_path):\n",
    "    with pysam.AlignmentFile(bam_path, 'rb') as alignment:\n",
    "        assert(alignment.check_index())\n",
    "        n_ref = len(alignment.references)\n",
    "        coverages = []\n",
    "        ref_lens = []\n",
    "        for ref in alignment.references:\n",
    "            ref_len = alignment.get_reference_length(alignment.references[0])\n",
    "            curr_coverage = np.zeros(ref_len)\n",
    "            positions = []\n",
    "            for read in tqdm_notebook(alignment.fetch(ref)):\n",
    "                curr_coverage[read.reference_start:read.reference_end] +=1\n",
    "            coverages.append(curr_coverage)\n",
    "        return coverages[0] if n_ref == 1 else coverages\n",
    "    \n",
    "def coverage_plot(coverage, bin_width=200, lab_step=4, k=1000):\n",
    "    from math import ceil\n",
    "    ref_len = len(coverage)\n",
    "    cov_percent = len(coverage == 0)/ref_len*100\n",
    "    mean_cov = round(np.mean(coverage), 3)\n",
    "    l = ceil(ref_len/bin_width)\n",
    "    to_plot = np.zeros(shape = l)\n",
    "    labels = np.chararray(l, itemsize=11)\n",
    "    rng = range(0, ref_len, bin_width)\n",
    "    for i, j in enumerate(rng):\n",
    "        to_plot[i] = np.mean(coverage[j:j+bin_width])\n",
    "        labels[i] = f'{j//k}k-{(j+bin_width-1)//k}k'\n",
    "    fig, ax = plt.subplots(figsize = [16, 9])\n",
    "    ax.plot(rng, to_plot, \n",
    "            label=f'Mean coverage = {mean_cov}\\nCoverage % = {cov_percent}\\nBinsize = {bin_width}')\n",
    "    ax.grid()\n",
    "    ax.set_xlabel('Reference bp')\n",
    "    ax.set_ylabel('Coverage')\n",
    "    ax.set_title('Coverage plot')\n",
    "    \n",
    "    def decoder(x):\n",
    "        return map(lambda el: el.decode(), x)\n",
    "\n",
    "    ax.set_xticks(rng[::lab_step])\n",
    "    ax.set_xticklabels(decoder(labels[::lab_step]))\n",
    "    ax.legend()\n",
    "    \n",
    "def get_mean_error(bam_path):\n",
    "    errs = []\n",
    "    with pysam.AlignmentFile(bam_path, 'rb') as alf:\n",
    "        for read in alf.fetch():\n",
    "            curr = read.get_tag('NM')\n",
    "            curr /= read.query_length\n",
    "            errs.append(curr)\n",
    "    return np.mean(errs)*100\n",
    "    \n",
    "def indel_stat(bam_path):\n",
    "    indel_lens = []\n",
    "    with pysam.AlignmentFile(bam_path, 'rb') as alf:\n",
    "        for read in alf.fetch():\n",
    "            for reg in read.cigartuples:\n",
    "                if (reg[0] == 1) or (reg[0] == 2):\n",
    "                    indel_lens.append(reg[1])\n",
    "    return indel_lens\n",
    "\n",
    "def indel_stat_plot(indel_lens):\n",
    "    fig, ax = plt.subplots(figsize=[16, 9])\n",
    "    sns.countplot(indel_lens)\n",
    "    ax.set_xlabel('Indel length')\n",
    "    ax.set_ylabel('Number of reads')\n",
    "    ax.set_title('Indel length plot')\n",
    "    ax.legend()\n",
    "    ax.set_yscale('log')\n",
    "\n",
    "def get_hpoly(ref_path):\n",
    "    with pysam.FastaFile(ref_path) as ref:\n",
    "        pass \n",
    "    \n",
    "def get_hpoly(seq, min_len=3):\n",
    "    hpolys = []\n",
    "    prev = None\n",
    "    curr_len = 1\n",
    "    for i, char in enumerate(seq):\n",
    "        if char == prev:\n",
    "            curr_len += 1\n",
    "        elif curr_len >= min_len:\n",
    "            hpolys.append((i-curr_len, i))\n",
    "            curr_len = 1\n",
    "        else:\n",
    "            curr_len = 1\n",
    "        prev = char\n",
    "    if curr_len >= min_len:\n",
    "        hpolys.append((i-curr_len+1, i+1))\n",
    "    return hpolys\n",
    "    \n",
    "def indel_stat_hpoly(bam_path, homop):\n",
    "    pass\n",
    "\n",
    "def qual_stat(bam_path, ref_path):\n",
    "    in_qual = []\n",
    "    mismatch_qual = []\n",
    "    with pysam.AlignmentFile(bam_path, 'rb') as alignment, pysam.Fastafile(ref_path) as ref:\n",
    "        for ref_contig in alignment.references:\n",
    "            ref_str = ref.fetch(ref_contig)\n",
    "            for read in tqdm_notebook(alignment.fetch(ref_contig)):\n",
    "                start_flag = False\n",
    "                for qi, ri in read.get_aligned_pairs():\n",
    "                    if start_flag:\n",
    "                        if (ri == None):  \n",
    "                            in_qual.append(read.query_qualities[qi])\n",
    "                        elif (qi != None) and (read.seq[qi].upper() != ref_str[ri].upper()):\n",
    "                            mismatch_qual.append(read.query_qualities[qi])\n",
    "                    elif (qi != None):\n",
    "                        if (qi == read.query_alignment_start): start_flag = True \n",
    "    return in_qual, mismatch_qual\n",
    "\n",
    "def qual_plot(in_qual, mm_qual):\n",
    "    fig, axarr = plt.subplots(2, 1, figsize = [16, 18])\n",
    "    sns.distplot(in_qual, kde=False, ax=axarr[0])\n",
    "    axarr[0].set_title('Insertion nucleotide quality distribution')\n",
    "    sns.distplot(mm_qual, kde=False, ax=axarr[1])\n",
    "    axarr[1].set_title('Mismatch nucleotide quality distribution')\n",
    "    for ax in axarr:\n",
    "        ax.set_xlabel('Quality')\n",
    "        ax.set_ylabel('Number of reads')\n",
    "        ax.grid()\n",
    "\n",
    "def sub_indel_mat(bam_path, ref_path, alphabet=['A', 'C', 'G', 'T', '_']):\n",
    "    sub_mat = pd.DataFrame(np.zeros((len(alphabet), len(alphabet))), index=alphabet, columns=alphabet)\n",
    "    with pysam.AlignmentFile(bam_path, 'rb') as alignment, pysam.Fastafile(ref_path) as ref:\n",
    "        for ref_contig in alignment.references:\n",
    "            ref_str = ref.fetch(ref_contig)\n",
    "            for read in tqdm_notebook(alignment.fetch(ref_contig)):\n",
    "                start_flag = False\n",
    "                for qi, ri in read.get_aligned_pairs():\n",
    "                    if start_flag:\n",
    "                        if (qi == None) and (ref_str[ri].upper() in alphabet):\n",
    "                            sub_mat.loc['_', ref_str[ri].upper()] += 1\n",
    "                        elif (ri == None) and (read.seq[qi].upper() in alphabet):  \n",
    "                            sub_mat.loc[read.seq[qi], '_'] += 1\n",
    "                        elif (read.seq[qi] != ref_str[ri]) and (read.seq[qi] in alphabet)\\\n",
    "                              and (ref_str[ri].upper() in alphabet):\n",
    "                            sub_mat.loc[read.seq[qi], ref_str[ri].upper()] +=1 \n",
    "                        elif (qi != None):\n",
    "                            if (qi == read.query_alignment_start): start_flag = True \n",
    "    return sub_mat"
   ]
  },
  {
   "cell_type": "markdown",
   "metadata": {},
   "source": [
    "## Alignments obtained from IonTorrent sequencing:"
   ]
  },
  {
   "cell_type": "code",
   "execution_count": 3,
   "metadata": {},
   "outputs": [],
   "source": [
    "bam_path1 = 'Data/Assignment_2/IonT/b22al_s.bam'\n",
    "bam_path2 = 'Data/Assignment_2/IonT/c24al_s.bam'\n",
    "ref_path = 'Data/Assignment_2/IonT/DH10B-K12.fasta'"
   ]
  },
  {
   "cell_type": "markdown",
   "metadata": {},
   "source": [
    "### Dataset #1:"
   ]
  },
  {
   "cell_type": "markdown",
   "metadata": {},
   "source": [
    "98.41% reads have mapped:"
   ]
  },
  {
   "cell_type": "code",
   "execution_count": 33,
   "metadata": {},
   "outputs": [
    {
     "name": "stdout",
     "output_type": "stream",
     "text": [
      "497384 + 0 in total (QC-passed reads + QC-failed reads)\r\n",
      "0 + 0 secondary\r\n",
      "2463 + 0 supplementary\r\n",
      "0 + 0 duplicates\r\n",
      "489459 + 0 mapped (98.41% : N/A)\r\n",
      "0 + 0 paired in sequencing\r\n",
      "0 + 0 read1\r\n",
      "0 + 0 read2\r\n",
      "0 + 0 properly paired (N/A : N/A)\r\n",
      "0 + 0 with itself and mate mapped\r\n",
      "0 + 0 singletons (N/A : N/A)\r\n",
      "0 + 0 with mate mapped to a different chr\r\n",
      "0 + 0 with mate mapped to a different chr (mapQ>=5)\r\n"
     ]
    }
   ],
   "source": [
    "!samtools flagstat Data/Assignment_2/IonT/b22al_s.bam"
   ]
  },
  {
   "cell_type": "code",
   "execution_count": 31,
   "metadata": {},
   "outputs": [
    {
     "data": {
      "application/vnd.jupyter.widget-view+json": {
       "model_id": "796f09910f5644e699974694b58745eb",
       "version_major": 2,
       "version_minor": 0
      },
      "text/html": [
       "<p>Failed to display Jupyter Widget of type <code>HBox</code>.</p>\n",
       "<p>\n",
       "  If you're reading this message in the Jupyter Notebook or JupyterLab Notebook, it may mean\n",
       "  that the widgets JavaScript is still loading. If this message persists, it\n",
       "  likely means that the widgets JavaScript library is either not installed or\n",
       "  not enabled. See the <a href=\"https://ipywidgets.readthedocs.io/en/stable/user_install.html\">Jupyter\n",
       "  Widgets Documentation</a> for setup instructions.\n",
       "</p>\n",
       "<p>\n",
       "  If you're reading this message in another frontend (for example, a static\n",
       "  rendering on GitHub or <a href=\"https://nbviewer.jupyter.org/\">NBViewer</a>),\n",
       "  it may mean that your frontend doesn't currently support widgets.\n",
       "</p>\n"
      ],
      "text/plain": [
       "HBox(children=(IntProgress(value=1, bar_style='info', max=1), HTML(value='')))"
      ]
     },
     "metadata": {},
     "output_type": "display_data"
    },
    {
     "name": "stdout",
     "output_type": "stream",
     "text": [
      "\n"
     ]
    }
   ],
   "source": [
    "cov1 = get_coverage(bam_path1)"
   ]
  },
  {
   "cell_type": "code",
   "execution_count": 32,
   "metadata": {},
   "outputs": [
    {
     "data": {
      "image/png": "[encoded data removed]",
      "text/plain": [
       "<Figure size 1152x648 with 1 Axes>"
      ]
     },
     "metadata": {},
     "output_type": "display_data"
    }
   ],
   "source": [
    "coverage_plot(cov1, bin_width=10000, lab_step=40)"
   ]
  },
  {
   "cell_type": "markdown",
   "metadata": {},
   "source": [
    "Mean error percentage:"
   ]
  },
  {
   "cell_type": "code",
   "execution_count": 6,
   "metadata": {},
   "outputs": [
    {
     "name": "stdout",
     "output_type": "stream",
     "text": [
      "0.744 %\n"
     ]
    }
   ],
   "source": [
    "print(round(get_mean_error(bam_path1), 3), '%')"
   ]
  },
  {
   "cell_type": "markdown",
   "metadata": {},
   "source": [
    "Indel lengths distribution:"
   ]
  },
  {
   "cell_type": "code",
   "execution_count": 114,
   "metadata": {},
   "outputs": [
    {
     "name": "stderr",
     "output_type": "stream",
     "text": [
      "No handles with labels found to put in legend.\n"
     ]
    },
    {
     "data": {
      "image/png": "[encoded data removed]",
      "text/plain": [
       "<Figure size 1152x648 with 1 Axes>"
      ]
     },
     "metadata": {},
     "output_type": "display_data"
    }
   ],
   "source": [
    "istat1 = indel_stat(bam_path1)\n",
    "indel_stat_plot(istat1)"
   ]
  },
  {
   "cell_type": "code",
   "execution_count": 108,
   "metadata": {},
   "outputs": [
    {
     "data": {
      "application/vnd.jupyter.widget-view+json": {
       "model_id": "718fb219eca7444ca980ad634ae8c689",
       "version_major": 2,
       "version_minor": 0
      },
      "text/html": [
       "<p>Failed to display Jupyter Widget of type <code>HBox</code>.</p>\n",
       "<p>\n",
       "  If you're reading this message in the Jupyter Notebook or JupyterLab Notebook, it may mean\n",
       "  that the widgets JavaScript is still loading. If this message persists, it\n",
       "  likely means that the widgets JavaScript library is either not installed or\n",
       "  not enabled. See the <a href=\"https://ipywidgets.readthedocs.io/en/stable/user_install.html\">Jupyter\n",
       "  Widgets Documentation</a> for setup instructions.\n",
       "</p>\n",
       "<p>\n",
       "  If you're reading this message in another frontend (for example, a static\n",
       "  rendering on GitHub or <a href=\"https://nbviewer.jupyter.org/\">NBViewer</a>),\n",
       "  it may mean that your frontend doesn't currently support widgets.\n",
       "</p>\n"
      ],
      "text/plain": [
       "HBox(children=(IntProgress(value=1, bar_style='info', max=1), HTML(value='')))"
      ]
     },
     "metadata": {},
     "output_type": "display_data"
    },
    {
     "name": "stdout",
     "output_type": "stream",
     "text": [
      "\n"
     ]
    }
   ],
   "source": [
    "inq1, mmq1 = qual_stat(bam_path1, ref_path)"
   ]
  },
  {
   "cell_type": "code",
   "execution_count": 118,
   "metadata": {},
   "outputs": [
    {
     "data": {
      "image/png": "[encoded data removed]",
      "text/plain": [
       "<Figure size 1152x1296 with 2 Axes>"
      ]
     },
     "metadata": {},
     "output_type": "display_data"
    }
   ],
   "source": [
    "qual_plot(inq1, mmq1)"
   ]
  },
  {
   "cell_type": "code",
   "execution_count": 28,
   "metadata": {},
   "outputs": [
    {
     "data": {
      "application/vnd.jupyter.widget-view+json": {
       "model_id": "fdd2c8678a09412d9a761f4703654d37",
       "version_major": 2,
       "version_minor": 0
      },
      "text/html": [
       "<p>Failed to display Jupyter Widget of type <code>HBox</code>.</p>\n",
       "<p>\n",
       "  If you're reading this message in the Jupyter Notebook or JupyterLab Notebook, it may mean\n",
       "  that the widgets JavaScript is still loading. If this message persists, it\n",
       "  likely means that the widgets JavaScript library is either not installed or\n",
       "  not enabled. See the <a href=\"https://ipywidgets.readthedocs.io/en/stable/user_install.html\">Jupyter\n",
       "  Widgets Documentation</a> for setup instructions.\n",
       "</p>\n",
       "<p>\n",
       "  If you're reading this message in another frontend (for example, a static\n",
       "  rendering on GitHub or <a href=\"https://nbviewer.jupyter.org/\">NBViewer</a>),\n",
       "  it may mean that your frontend doesn't currently support widgets.\n",
       "</p>\n"
      ],
      "text/plain": [
       "HBox(children=(IntProgress(value=1, bar_style='info', max=1), HTML(value='')))"
      ]
     },
     "metadata": {},
     "output_type": "display_data"
    },
    {
     "name": "stdout",
     "output_type": "stream",
     "text": [
      "\n"
     ]
    }
   ],
   "source": [
    "sindmat1 = sub_indel_mat(bam_path1, ref_path)"
   ]
  },
  {
   "cell_type": "code",
   "execution_count": 29,
   "metadata": {},
   "outputs": [
    {
     "data": {
      "text/html": [
       "<div>\n",
       "<style scoped>\n",
       "    .dataframe tbody tr th:only-of-type {\n",
       "        vertical-align: middle;\n",
       "    }\n",
       "\n",
       "    .dataframe tbody tr th {\n",
       "        vertical-align: top;\n",
       "    }\n",
       "\n",
       "    .dataframe thead th {\n",
       "        text-align: right;\n",
       "    }\n",
       "</style>\n",
       "<table border=\"1\" class=\"dataframe\">\n",
       "  <thead>\n",
       "    <tr style=\"text-align: right;\">\n",
       "      <th></th>\n",
       "      <th>A</th>\n",
       "      <th>C</th>\n",
       "      <th>G</th>\n",
       "      <th>T</th>\n",
       "      <th>_</th>\n",
       "    </tr>\n",
       "  </thead>\n",
       "  <tbody>\n",
       "    <tr>\n",
       "      <th>A</th>\n",
       "      <td>0.0</td>\n",
       "      <td>10360.0</td>\n",
       "      <td>17215.0</td>\n",
       "      <td>11325.0</td>\n",
       "      <td>404174.0</td>\n",
       "    </tr>\n",
       "    <tr>\n",
       "      <th>C</th>\n",
       "      <td>9147.0</td>\n",
       "      <td>0.0</td>\n",
       "      <td>7209.0</td>\n",
       "      <td>24493.0</td>\n",
       "      <td>262284.0</td>\n",
       "    </tr>\n",
       "    <tr>\n",
       "      <th>G</th>\n",
       "      <td>23657.0</td>\n",
       "      <td>8092.0</td>\n",
       "      <td>0.0</td>\n",
       "      <td>9060.0</td>\n",
       "      <td>258156.0</td>\n",
       "    </tr>\n",
       "    <tr>\n",
       "      <th>T</th>\n",
       "      <td>11173.0</td>\n",
       "      <td>16671.0</td>\n",
       "      <td>10563.0</td>\n",
       "      <td>0.0</td>\n",
       "      <td>369495.0</td>\n",
       "    </tr>\n",
       "    <tr>\n",
       "      <th>_</th>\n",
       "      <td>119254.0</td>\n",
       "      <td>72479.0</td>\n",
       "      <td>72804.0</td>\n",
       "      <td>119372.0</td>\n",
       "      <td>0.0</td>\n",
       "    </tr>\n",
       "  </tbody>\n",
       "</table>\n",
       "</div>"
      ],
      "text/plain": [
       "          A        C        G         T         _\n",
       "A       0.0  10360.0  17215.0   11325.0  404174.0\n",
       "C    9147.0      0.0   7209.0   24493.0  262284.0\n",
       "G   23657.0   8092.0      0.0    9060.0  258156.0\n",
       "T   11173.0  16671.0  10563.0       0.0  369495.0\n",
       "_  119254.0  72479.0  72804.0  119372.0       0.0"
      ]
     },
     "execution_count": 29,
     "metadata": {},
     "output_type": "execute_result"
    }
   ],
   "source": [
    "sindmat1"
   ]
  },
  {
   "cell_type": "markdown",
   "metadata": {},
   "source": [
    "### Dataset #2:"
   ]
  },
  {
   "cell_type": "markdown",
   "metadata": {},
   "source": [
    "99.41% of reads have aligned:"
   ]
  },
  {
   "cell_type": "code",
   "execution_count": 119,
   "metadata": {},
   "outputs": [
    {
     "name": "stdout",
     "output_type": "stream",
     "text": [
      "686667 + 0 in total (QC-passed reads + QC-failed reads)\r\n",
      "0 + 0 secondary\r\n",
      "1261 + 0 supplementary\r\n",
      "0 + 0 duplicates\r\n",
      "682638 + 0 mapped (99.41% : N/A)\r\n",
      "0 + 0 paired in sequencing\r\n",
      "0 + 0 read1\r\n",
      "0 + 0 read2\r\n",
      "0 + 0 properly paired (N/A : N/A)\r\n",
      "0 + 0 with itself and mate mapped\r\n",
      "0 + 0 singletons (N/A : N/A)\r\n",
      "0 + 0 with mate mapped to a different chr\r\n",
      "0 + 0 with mate mapped to a different chr (mapQ>=5)\r\n"
     ]
    }
   ],
   "source": [
    "!samtools flagstat Data/Assignment_2/IonT/c24al_s.bam"
   ]
  },
  {
   "cell_type": "code",
   "execution_count": 120,
   "metadata": {},
   "outputs": [
    {
     "data": {
      "application/vnd.jupyter.widget-view+json": {
       "model_id": "8d9ec1d5922649129f9dcf9967431360",
       "version_major": 2,
       "version_minor": 0
      },
      "text/html": [
       "<p>Failed to display Jupyter Widget of type <code>HBox</code>.</p>\n",
       "<p>\n",
       "  If you're reading this message in the Jupyter Notebook or JupyterLab Notebook, it may mean\n",
       "  that the widgets JavaScript is still loading. If this message persists, it\n",
       "  likely means that the widgets JavaScript library is either not installed or\n",
       "  not enabled. See the <a href=\"https://ipywidgets.readthedocs.io/en/stable/user_install.html\">Jupyter\n",
       "  Widgets Documentation</a> for setup instructions.\n",
       "</p>\n",
       "<p>\n",
       "  If you're reading this message in another frontend (for example, a static\n",
       "  rendering on GitHub or <a href=\"https://nbviewer.jupyter.org/\">NBViewer</a>),\n",
       "  it may mean that your frontend doesn't currently support widgets.\n",
       "</p>\n"
      ],
      "text/plain": [
       "HBox(children=(IntProgress(value=1, bar_style='info', max=1), HTML(value='')))"
      ]
     },
     "metadata": {},
     "output_type": "display_data"
    },
    {
     "name": "stdout",
     "output_type": "stream",
     "text": [
      "\n"
     ]
    },
    {
     "data": {
      "image/png": "[encoded data removed]",
      "text/plain": [
       "<Figure size 1152x648 with 1 Axes>"
      ]
     },
     "metadata": {},
     "output_type": "display_data"
    }
   ],
   "source": [
    "cov2 = get_coverage(bam_path2)\n",
    "coverage_plot(cov2, bin_width=10000, lab_step=40)"
   ]
  },
  {
   "cell_type": "code",
   "execution_count": 121,
   "metadata": {},
   "outputs": [
    {
     "name": "stdout",
     "output_type": "stream",
     "text": [
      "Mean error percentage = 0.41 %\n"
     ]
    }
   ],
   "source": [
    "print('Mean error percentage =', round(get_mean_error(bam_path2), 3), '%')"
   ]
  },
  {
   "cell_type": "code",
   "execution_count": 122,
   "metadata": {},
   "outputs": [
    {
     "name": "stderr",
     "output_type": "stream",
     "text": [
      "No handles with labels found to put in legend.\n"
     ]
    },
    {
     "data": {
      "image/png": "[encoded data removed]",
      "text/plain": [
       "<Figure size 1152x648 with 1 Axes>"
      ]
     },
     "metadata": {},
     "output_type": "display_data"
    }
   ],
   "source": [
    "istat2 = indel_stat(bam_path2)\n",
    "indel_stat_plot(istat2)"
   ]
  },
  {
   "cell_type": "code",
   "execution_count": 123,
   "metadata": {},
   "outputs": [
    {
     "data": {
      "application/vnd.jupyter.widget-view+json": {
       "model_id": "2019914d548a49e1b4ce696ebbb7be2e",
       "version_major": 2,
       "version_minor": 0
      },
      "text/html": [
       "<p>Failed to display Jupyter Widget of type <code>HBox</code>.</p>\n",
       "<p>\n",
       "  If you're reading this message in the Jupyter Notebook or JupyterLab Notebook, it may mean\n",
       "  that the widgets JavaScript is still loading. If this message persists, it\n",
       "  likely means that the widgets JavaScript library is either not installed or\n",
       "  not enabled. See the <a href=\"https://ipywidgets.readthedocs.io/en/stable/user_install.html\">Jupyter\n",
       "  Widgets Documentation</a> for setup instructions.\n",
       "</p>\n",
       "<p>\n",
       "  If you're reading this message in another frontend (for example, a static\n",
       "  rendering on GitHub or <a href=\"https://nbviewer.jupyter.org/\">NBViewer</a>),\n",
       "  it may mean that your frontend doesn't currently support widgets.\n",
       "</p>\n"
      ],
      "text/plain": [
       "HBox(children=(IntProgress(value=1, bar_style='info', max=1), HTML(value='')))"
      ]
     },
     "metadata": {},
     "output_type": "display_data"
    },
    {
     "name": "stdout",
     "output_type": "stream",
     "text": [
      "\n"
     ]
    }
   ],
   "source": [
    "inq2, mmq2 = qual_stat(bam_path2, ref_path)"
   ]
  },
  {
   "cell_type": "code",
   "execution_count": 124,
   "metadata": {},
   "outputs": [
    {
     "data": {
      "image/png": "[encoded data removed]",
      "text/plain": [
       "<Figure size 1152x1296 with 2 Axes>"
      ]
     },
     "metadata": {},
     "output_type": "display_data"
    }
   ],
   "source": [
    "qual_plot(inq2, mmq2)"
   ]
  },
  {
   "cell_type": "code",
   "execution_count": null,
   "metadata": {},
   "outputs": [],
   "source": [
    "sindmat2 = sub_indel_mat(bam_path2, ref_path)"
   ]
  },
  {
   "cell_type": "code",
   "execution_count": null,
   "metadata": {},
   "outputs": [],
   "source": [
    "sindmat2"
   ]
  }
 ],
 "metadata": {
  "kernelspec": {
   "display_name": "Python 3",
   "language": "python",
   "name": "python3"
  },
  "language_info": {
   "codemirror_mode": {
    "name": "ipython",
    "version": 3
   },
   "file_extension": ".py",
   "mimetype": "text/x-python",
   "name": "python",
   "nbconvert_exporter": "python",
   "pygments_lexer": "ipython3",
   "version": "3.6.8"
  },
  "widgets": {
   "application/vnd.jupyter.widget-state+json": {
    "state": {
     "00bda65d878d4466a010731878442bde": {
      "model_module": "@jupyter-widgets/controls",
      "model_module_version": "1.1.0",
      "model_name": "ProgressStyleModel",
      "state": {
       "description_width": ""
      }
     },
     "00fc296d29d74911bafae0a0a971c438": {
      "model_module": "@jupyter-widgets/base",
      "model_module_version": "1.0.0",
      "model_name": "LayoutModel",
      "state": {}
     },
     "0119f559c47e417eb4b6d7b5e02afa75": {
      "model_module": "@jupyter-widgets/controls",
      "model_module_version": "1.1.0",
      "model_name": "ProgressStyleModel",
      "state": {
       "description_width": ""
      }
     },
     "0147b0b1046c401191801c7f44def0ee": {
      "model_module": "@jupyter-widgets/base",
      "model_module_version": "1.0.0",
      "model_name": "LayoutModel",
      "state": {}
     },
     "02df9c5f2fcf419b90989a667864e3a9": {
      "model_module": "@jupyter-widgets/controls",
      "model_module_version": "1.1.0",
      "model_name": "IntProgressModel",
      "state": {
       "bar_style": "success",
       "layout": "IPY_MODEL_cae7b83b50a14f09b5aa971e3ec64f5a",
       "max": 1,
       "style": "IPY_MODEL_9687ce68dfc443b399d5291bd52b7972",
       "value": 1
      }
     },
     "0456e5eb4187488d9fc49a5b8c6a8e14": {
      "model_module": "@jupyter-widgets/controls",
      "model_module_version": "1.1.0",
      "model_name": "ProgressStyleModel",
      "state": {
       "description_width": ""
      }
     },
     "0524a812d239490999da845eba13218f": {
      "model_module": "@jupyter-widgets/base",
      "model_module_version": "1.0.0",
      "model_name": "LayoutModel",
      "state": {}
     },
     "05c87c2edfb249c7a569cb377ad5c19f": {
      "model_module": "@jupyter-widgets/base",
      "model_module_version": "1.0.0",
      "model_name": "LayoutModel",
      "state": {}
     },
     "082f0d1df1ba4eb08fbb63b32abf40e6": {
      "model_module": "@jupyter-widgets/controls",
      "model_module_version": "1.1.0",
      "model_name": "HTMLModel",
      "state": {
       "layout": "IPY_MODEL_e6d5e0003c42431ba7107c5674fa2a50",
       "style": "IPY_MODEL_d5bad8d779bd4c80a74ace5b2b390824",
       "value": "489459it [00:02, 198610.50it/s]"
      }
     },
     "0959706e81184085b3b975b4c08392d5": {
      "model_module": "@jupyter-widgets/base",
      "model_module_version": "1.0.0",
      "model_name": "LayoutModel",
      "state": {}
     },
     "097564b13d1b408aa73c3e517553af7c": {
      "model_module": "@jupyter-widgets/base",
      "model_module_version": "1.0.0",
      "model_name": "LayoutModel",
      "state": {}
     },
     "09815aba106d4e479f8d445179376f05": {
      "model_module": "@jupyter-widgets/base",
      "model_module_version": "1.0.0",
      "model_name": "LayoutModel",
      "state": {}
     },
     "0ba3a44c02394426ba99bb0ded0650ee": {
      "model_module": "@jupyter-widgets/base",
      "model_module_version": "1.0.0",
      "model_name": "LayoutModel",
      "state": {}
     },
     "0cd6125527494bb591fc4c011723edb9": {
      "model_module": "@jupyter-widgets/controls",
      "model_module_version": "1.1.0",
      "model_name": "DescriptionStyleModel",
      "state": {
       "description_width": ""
      }
     },
     "0dc4d99812164594bf64c5194966877a": {
      "model_module": "@jupyter-widgets/controls",
      "model_module_version": "1.1.0",
      "model_name": "HTMLModel",
      "state": {
       "layout": "IPY_MODEL_828647e41f2442ca89562f352ff31f4a",
       "style": "IPY_MODEL_b1b2f03978af48a3afbda689096b5602",
       "value": "489459it [01:12, 6789.89it/s]"
      }
     },
     "0fe88d5119044a50bf305b9c9ad2a6a3": {
      "model_module": "@jupyter-widgets/controls",
      "model_module_version": "1.1.0",
      "model_name": "DescriptionStyleModel",
      "state": {
       "description_width": ""
      }
     },
     "1248c9e867934defb5342577cae4ad76": {
      "model_module": "@jupyter-widgets/controls",
      "model_module_version": "1.1.0",
      "model_name": "ProgressStyleModel",
      "state": {
       "description_width": ""
      }
     },
     "12765034287a415cb24cc1b31bc8bb2d": {
      "model_module": "@jupyter-widgets/controls",
      "model_module_version": "1.1.0",
      "model_name": "IntProgressModel",
      "state": {
       "bar_style": "success",
       "layout": "IPY_MODEL_2d236f82f3ab4e6d8f0e430a05fc8b79",
       "max": 1,
       "style": "IPY_MODEL_0119f559c47e417eb4b6d7b5e02afa75",
       "value": 1
      }
     },
     "131abe5c7c884f6c92cac3eb82db1105": {
      "model_module": "@jupyter-widgets/base",
      "model_module_version": "1.0.0",
      "model_name": "LayoutModel",
      "state": {}
     },
     "13b18635a5a046749da023f93bd577f1": {
      "model_module": "@jupyter-widgets/base",
      "model_module_version": "1.0.0",
      "model_name": "LayoutModel",
      "state": {}
     },
     "15a31ce489314e9891d8fab1e7a7fbf9": {
      "model_module": "@jupyter-widgets/controls",
      "model_module_version": "1.1.0",
      "model_name": "ProgressStyleModel",
      "state": {
       "description_width": ""
      }
     },
     "16f98daf6e354874b691553942e62062": {
      "model_module": "@jupyter-widgets/controls",
      "model_module_version": "1.1.0",
      "model_name": "ProgressStyleModel",
      "state": {
       "description_width": ""
      }
     },
     "17489f85ddf44188a181ff9ec83da2c3": {
      "model_module": "@jupyter-widgets/controls",
      "model_module_version": "1.1.0",
      "model_name": "ProgressStyleModel",
      "state": {
       "description_width": ""
      }
     },
     "186d3c5699c74ee89881e045a2994c48": {
      "model_module": "@jupyter-widgets/controls",
      "model_module_version": "1.1.0",
      "model_name": "IntProgressModel",
      "state": {
       "bar_style": "success",
       "layout": "IPY_MODEL_8bdadaf6bd9b4fa88d7a069864225d66",
       "max": 1,
       "style": "IPY_MODEL_7e32869922634895961a14b9a65574b6",
       "value": 1
      }
     },
     "19fb6d0ce19b42269dd016143e31bb8f": {
      "model_module": "@jupyter-widgets/controls",
      "model_module_version": "1.1.0",
      "model_name": "IntProgressModel",
      "state": {
       "bar_style": "success",
       "layout": "IPY_MODEL_d612f22b0d0442ecb4750567f4c3bb32",
       "max": 1,
       "style": "IPY_MODEL_f7ac0487013b4d1bafa1d25b98ace2e3",
       "value": 1
      }
     },
     "1a4bd6ff5b9a43209892b36efe370fec": {
      "model_module": "@jupyter-widgets/controls",
      "model_module_version": "1.1.0",
      "model_name": "HTMLModel",
      "state": {
       "layout": "IPY_MODEL_0ba3a44c02394426ba99bb0ded0650ee",
       "style": "IPY_MODEL_d6b37b060c0f410199c82104c862c5b8",
       "value": "489459it [00:02, 198123.82it/s]"
      }
     },
     "1ace6216d8f24231865a24d930584512": {
      "model_module": "@jupyter-widgets/base",
      "model_module_version": "1.0.0",
      "model_name": "LayoutModel",
      "state": {}
     },
     "1bd8ceb60aa240f5b83e7e43e9f2108f": {
      "model_module": "@jupyter-widgets/controls",
      "model_module_version": "1.1.0",
      "model_name": "HTMLModel",
      "state": {
       "layout": "IPY_MODEL_b69ade9d5fb0430fa0eeef834c45ef60",
       "style": "IPY_MODEL_5cc9cc27c4c042dd88550f741aa1a0af",
       "value": "489459it [00:59, 8249.65it/s]"
      }
     },
     "1c71a99116ed40009da398638f0e2263": {
      "model_module": "@jupyter-widgets/controls",
      "model_module_version": "1.1.0",
      "model_name": "ProgressStyleModel",
      "state": {
       "description_width": ""
      }
     },
     "1c7ab46fa5254cd58b3280aaab593d89": {
      "model_module": "@jupyter-widgets/base",
      "model_module_version": "1.0.0",
      "model_name": "LayoutModel",
      "state": {}
     },
     "1cb7f8983c5d44a58c208f10aee49b82": {
      "model_module": "@jupyter-widgets/controls",
      "model_module_version": "1.1.0",
      "model_name": "HTMLModel",
      "state": {
       "layout": "IPY_MODEL_8e95d6506e394fa5bd88c160f2c63655",
       "style": "IPY_MODEL_eac349275e54403eb04d3ee1e2d39a00",
       "value": "489459it [01:23, 5893.81it/s]"
      }
     },
     "1ef2d38aceef4ba2b55e5c6f022f6b3a": {
      "model_module": "@jupyter-widgets/controls",
      "model_module_version": "1.1.0",
      "model_name": "DescriptionStyleModel",
      "state": {
       "description_width": ""
      }
     },
     "1f8d25f7399a43fdabab7608c8d1dcdb": {
      "model_module": "@jupyter-widgets/base",
      "model_module_version": "1.0.0",
      "model_name": "LayoutModel",
      "state": {}
     },
     "1ffc8346d1f54f76b858af14c9d7de37": {
      "model_module": "@jupyter-widgets/controls",
      "model_module_version": "1.1.0",
      "model_name": "HTMLModel",
      "state": {
       "layout": "IPY_MODEL_5c45c31300104d0d97fe5394f9b8c311",
       "style": "IPY_MODEL_3fa9dff549c3496abc06bb460beb136c",
       "value": "489459it [00:02, 197763.39it/s]"
      }
     },
     "23101746a92140fcaf82f5fb6943cd86": {
      "model_module": "@jupyter-widgets/controls",
      "model_module_version": "1.1.0",
      "model_name": "HBoxModel",
      "state": {
       "children": [
        "IPY_MODEL_60fdf8b1782347668c31cde222b158c5",
        "IPY_MODEL_1ffc8346d1f54f76b858af14c9d7de37"
       ],
       "layout": "IPY_MODEL_131abe5c7c884f6c92cac3eb82db1105"
      }
     },
     "23d49ef9467649ae8d27cf277d782b9c": {
      "model_module": "@jupyter-widgets/base",
      "model_module_version": "1.0.0",
      "model_name": "LayoutModel",
      "state": {}
     },
     "24fa18e395874e2584facd1ee8a84294": {
      "model_module": "@jupyter-widgets/controls",
      "model_module_version": "1.1.0",
      "model_name": "DescriptionStyleModel",
      "state": {
       "description_width": ""
      }
     },
     "268b00cb4e44407fbc24979fd5edc8d4": {
      "model_module": "@jupyter-widgets/base",
      "model_module_version": "1.0.0",
      "model_name": "LayoutModel",
      "state": {}
     },
     "27797e0a61d046fa8826b33724878c45": {
      "model_module": "@jupyter-widgets/controls",
      "model_module_version": "1.1.0",
      "model_name": "DescriptionStyleModel",
      "state": {
       "description_width": ""
      }
     },
     "2892773e81b44b029fcc0cbbf0151552": {
      "model_module": "@jupyter-widgets/controls",
      "model_module_version": "1.1.0",
      "model_name": "ProgressStyleModel",
      "state": {
       "description_width": ""
      }
     },
     "29bb72014e414f39b31f9979ce21698d": {
      "model_module": "@jupyter-widgets/controls",
      "model_module_version": "1.1.0",
      "model_name": "IntProgressModel",
      "state": {
       "bar_style": "success",
       "layout": "IPY_MODEL_b54f9d488fcb4194b4db6a46a3197c2d",
       "max": 1,
       "style": "IPY_MODEL_d7be7b6dc3eb4534aa245f569770f422",
       "value": 1
      }
     },
     "2d236f82f3ab4e6d8f0e430a05fc8b79": {
      "model_module": "@jupyter-widgets/base",
      "model_module_version": "1.0.0",
      "model_name": "LayoutModel",
      "state": {}
     },
     "2d8a48caede042e286789ea40e588728": {
      "model_module": "@jupyter-widgets/controls",
      "model_module_version": "1.1.0",
      "model_name": "HBoxModel",
      "state": {
       "children": [
        "IPY_MODEL_2f4c058155974ea1aba9158b54432df1",
        "IPY_MODEL_9cf94020b230467095d7fa77fa6b948f"
       ],
       "layout": "IPY_MODEL_bbbdba27bdc24e26bd7b25eaee32f9bc"
      }
     },
     "2f4c058155974ea1aba9158b54432df1": {
      "model_module": "@jupyter-widgets/controls",
      "model_module_version": "1.1.0",
      "model_name": "IntProgressModel",
      "state": {
       "bar_style": "danger",
       "layout": "IPY_MODEL_edd7f2f0d33a4d0cb95c409b288dbb98",
       "max": 1,
       "style": "IPY_MODEL_0456e5eb4187488d9fc49a5b8c6a8e14",
       "value": 1
      }
     },
     "2fcf76800418435ab1f3a73921083381": {
      "model_module": "@jupyter-widgets/base",
      "model_module_version": "1.0.0",
      "model_name": "LayoutModel",
      "state": {}
     },
     "3023376ad24f44ceb9ab5e357a0df01d": {
      "model_module": "@jupyter-widgets/controls",
      "model_module_version": "1.1.0",
      "model_name": "IntProgressModel",
      "state": {
       "bar_style": "info",
       "layout": "IPY_MODEL_ffe7361bd3d64b05bff4b3cf97bf7c4e",
       "max": 1,
       "style": "IPY_MODEL_77b148a4a29047158b097af1a8868d8b",
       "value": 1
      }
     },
     "30b0a0d5f843415388d2e4f0e2268d4e": {
      "model_module": "@jupyter-widgets/base",
      "model_module_version": "1.0.0",
      "model_name": "LayoutModel",
      "state": {}
     },
     "31c28c5cc8c3442c93493989e857e576": {
      "model_module": "@jupyter-widgets/controls",
      "model_module_version": "1.1.0",
      "model_name": "IntProgressModel",
      "state": {
       "bar_style": "danger",
       "layout": "IPY_MODEL_397d53b960f24d23a64b98e4982328f8",
       "max": 1,
       "style": "IPY_MODEL_2892773e81b44b029fcc0cbbf0151552",
       "value": 1
      }
     },
     "33285bda2cec4b05823f336294ed47a8": {
      "model_module": "@jupyter-widgets/base",
      "model_module_version": "1.0.0",
      "model_name": "LayoutModel",
      "state": {}
     },
     "3457c7fb3cc441ba9ba4c61868924c27": {
      "model_module": "@jupyter-widgets/controls",
      "model_module_version": "1.1.0",
      "model_name": "HTMLModel",
      "state": {
       "layout": "IPY_MODEL_97ee21019c7b45889fc5bcddce553165",
       "style": "IPY_MODEL_1ef2d38aceef4ba2b55e5c6f022f6b3a",
       "value": "489459it [00:22, 22198.27it/s]"
      }
     },
     "36fd24e4164144e8ad985f7865e3862b": {
      "model_module": "@jupyter-widgets/base",
      "model_module_version": "1.0.0",
      "model_name": "LayoutModel",
      "state": {}
     },
     "391e6f963a0941c29e0cde83d03ae16e": {
      "model_module": "@jupyter-widgets/base",
      "model_module_version": "1.0.0",
      "model_name": "LayoutModel",
      "state": {}
     },
     "397d53b960f24d23a64b98e4982328f8": {
      "model_module": "@jupyter-widgets/base",
      "model_module_version": "1.0.0",
      "model_name": "LayoutModel",
      "state": {}
     },
     "3ac1e979b8154e7199bde2006c39ee42": {
      "model_module": "@jupyter-widgets/controls",
      "model_module_version": "1.1.0",
      "model_name": "ProgressStyleModel",
      "state": {
       "description_width": ""
      }
     },
     "3b335e61d8974b7f84f926da87c16943": {
      "model_module": "@jupyter-widgets/controls",
      "model_module_version": "1.1.0",
      "model_name": "ProgressStyleModel",
      "state": {
       "description_width": ""
      }
     },
     "3b69075611ea4450815798215ec97249": {
      "model_module": "@jupyter-widgets/controls",
      "model_module_version": "1.1.0",
      "model_name": "HBoxModel",
      "state": {
       "children": [
        "IPY_MODEL_7995d35477a24f3fa0daa82ddc2a4d4f",
        "IPY_MODEL_99c5a38615894cdbbd441547b23d4af0"
       ],
       "layout": "IPY_MODEL_740871ba3fca490ab98e9e628f51b21b"
      }
     },
     "3bb78c0158a141e085c63fe13c8911b9": {
      "model_module": "@jupyter-widgets/base",
      "model_module_version": "1.0.0",
      "model_name": "LayoutModel",
      "state": {}
     },
     "3ece0b56f3044c56b39fa8bc4286b502": {
      "model_module": "@jupyter-widgets/controls",
      "model_module_version": "1.1.0",
      "model_name": "DescriptionStyleModel",
      "state": {
       "description_width": ""
      }
     },
     "3fa9dff549c3496abc06bb460beb136c": {
      "model_module": "@jupyter-widgets/controls",
      "model_module_version": "1.1.0",
      "model_name": "DescriptionStyleModel",
      "state": {
       "description_width": ""
      }
     },
     "4115e3a524c1493d809d6562c10e8fc2": {
      "model_module": "@jupyter-widgets/controls",
      "model_module_version": "1.1.0",
      "model_name": "HBoxModel",
      "state": {
       "children": [
        "IPY_MODEL_5253e4c1e51d459ebd6f5c44e92655a4",
        "IPY_MODEL_082f0d1df1ba4eb08fbb63b32abf40e6"
       ],
       "layout": "IPY_MODEL_f42f954d8c21493c9f076e97f6a6bb34"
      }
     },
     "41e5c0d8dede4df884f55ae6157d82f1": {
      "model_module": "@jupyter-widgets/controls",
      "model_module_version": "1.1.0",
      "model_name": "IntProgressModel",
      "state": {
       "bar_style": "success",
       "layout": "IPY_MODEL_85706aedc75d46f0824cc247bdebaf9f",
       "max": 1,
       "style": "IPY_MODEL_89b316b0be2b45b992fb475f99a7f26d",
       "value": 1
      }
     },
     "42ada1c34ea74bfbac470cbe92a418dd": {
      "model_module": "@jupyter-widgets/controls",
      "model_module_version": "1.1.0",
      "model_name": "DescriptionStyleModel",
      "state": {
       "description_width": ""
      }
     },
     "44c4c14182934977bae4a97bedf52466": {
      "model_module": "@jupyter-widgets/controls",
      "model_module_version": "1.1.0",
      "model_name": "HBoxModel",
      "state": {
       "children": [
        "IPY_MODEL_f417dccca8374b709be075ef7809d9af",
        "IPY_MODEL_4772993ea326468ebeaaf1160beab26e"
       ],
       "layout": "IPY_MODEL_0147b0b1046c401191801c7f44def0ee"
      }
     },
     "46ed41bb5cd74580bdda98df1bdc6981": {
      "model_module": "@jupyter-widgets/base",
      "model_module_version": "1.0.0",
      "model_name": "LayoutModel",
      "state": {}
     },
     "4772993ea326468ebeaaf1160beab26e": {
      "model_module": "@jupyter-widgets/controls",
      "model_module_version": "1.1.0",
      "model_name": "HTMLModel",
      "state": {
       "layout": "IPY_MODEL_612d5bfdb2bc4c2d94aeff07524948c2",
       "style": "IPY_MODEL_827b2d8287a14f9f9059ca68e65adc38",
       "value": "0it [00:00, ?it/s]"
      }
     },
     "49e89c1a1fb045bfbceb14c80dc9224e": {
      "model_module": "@jupyter-widgets/base",
      "model_module_version": "1.0.0",
      "model_name": "LayoutModel",
      "state": {}
     },
     "4b1ec1db486f4c8d8bcb7fc824df96c2": {
      "model_module": "@jupyter-widgets/controls",
      "model_module_version": "1.1.0",
      "model_name": "IntProgressModel",
      "state": {
       "bar_style": "success",
       "layout": "IPY_MODEL_6574be446e0c426594549bb7a5b1cb58",
       "max": 1,
       "style": "IPY_MODEL_7d52571f6fa34bb78e4c9c470d925a93",
       "value": 1
      }
     },
     "4f824b2916c64197bdcc959578216f2e": {
      "model_module": "@jupyter-widgets/base",
      "model_module_version": "1.0.0",
      "model_name": "LayoutModel",
      "state": {}
     },
     "5253e4c1e51d459ebd6f5c44e92655a4": {
      "model_module": "@jupyter-widgets/controls",
      "model_module_version": "1.1.0",
      "model_name": "IntProgressModel",
      "state": {
       "bar_style": "success",
       "layout": "IPY_MODEL_0959706e81184085b3b975b4c08392d5",
       "max": 1,
       "style": "IPY_MODEL_c3c0e830e760435d8dc13b29992a5e63",
       "value": 1
      }
     },
     "52c260c196764817a5fa0bcec2231886": {
      "model_module": "@jupyter-widgets/controls",
      "model_module_version": "1.1.0",
      "model_name": "HBoxModel",
      "state": {
       "children": [
        "IPY_MODEL_91f0eb1d4478497996cf0def18de9d53",
        "IPY_MODEL_d84deb2928ed4955a631681555406370"
       ],
       "layout": "IPY_MODEL_aeff9e6046654defbc878493899fabb1"
      }
     },
     "53aa9ef8760d4025ad905e15b0085916": {
      "model_module": "@jupyter-widgets/base",
      "model_module_version": "1.0.0",
      "model_name": "LayoutModel",
      "state": {}
     },
     "53d1309d4c254299840f6daff64ab33b": {
      "model_module": "@jupyter-widgets/base",
      "model_module_version": "1.0.0",
      "model_name": "LayoutModel",
      "state": {}
     },
     "5993938ac3e54dc4a96c7beed23c99ca": {
      "model_module": "@jupyter-widgets/controls",
      "model_module_version": "1.1.0",
      "model_name": "IntProgressModel",
      "state": {
       "bar_style": "success",
       "layout": "IPY_MODEL_30b0a0d5f843415388d2e4f0e2268d4e",
       "max": 1,
       "style": "IPY_MODEL_15a31ce489314e9891d8fab1e7a7fbf9",
       "value": 1
      }
     },
     "59e57c48261c43e2bce92c0a69c190d2": {
      "model_module": "@jupyter-widgets/controls",
      "model_module_version": "1.1.0",
      "model_name": "IntProgressModel",
      "state": {
       "bar_style": "success",
       "layout": "IPY_MODEL_1c7ab46fa5254cd58b3280aaab593d89",
       "max": 1,
       "style": "IPY_MODEL_ad3e1ac128514c488f1d87bbd2d9c844",
       "value": 1
      }
     },
     "5c45c31300104d0d97fe5394f9b8c311": {
      "model_module": "@jupyter-widgets/base",
      "model_module_version": "1.0.0",
      "model_name": "LayoutModel",
      "state": {}
     },
     "5cc9cc27c4c042dd88550f741aa1a0af": {
      "model_module": "@jupyter-widgets/controls",
      "model_module_version": "1.1.0",
      "model_name": "DescriptionStyleModel",
      "state": {
       "description_width": ""
      }
     },
     "5ed2856d0fd0495aa3bf536d7c545e45": {
      "model_module": "@jupyter-widgets/controls",
      "model_module_version": "1.1.0",
      "model_name": "DescriptionStyleModel",
      "state": {
       "description_width": ""
      }
     },
     "5f6ea83c725643ffa7e79729257aea42": {
      "model_module": "@jupyter-widgets/controls",
      "model_module_version": "1.1.0",
      "model_name": "IntProgressModel",
      "state": {
       "bar_style": "success",
       "layout": "IPY_MODEL_a9cb7046a12c4075856412289894a9a3",
       "max": 1,
       "style": "IPY_MODEL_3b335e61d8974b7f84f926da87c16943",
       "value": 1
      }
     },
     "6023454369284546aa293a073f0eee33": {
      "model_module": "@jupyter-widgets/controls",
      "model_module_version": "1.1.0",
      "model_name": "HBoxModel",
      "state": {
       "children": [
        "IPY_MODEL_b7ce42f1f1614b28be3f262daa56b72c",
        "IPY_MODEL_cbfad015c415448bbf696d4a4f233803"
       ],
       "layout": "IPY_MODEL_e71b48ba18f04881a7f5327ded9e0f0d"
      }
     },
     "60fdf8b1782347668c31cde222b158c5": {
      "model_module": "@jupyter-widgets/controls",
      "model_module_version": "1.1.0",
      "model_name": "IntProgressModel",
      "state": {
       "bar_style": "success",
       "layout": "IPY_MODEL_e37b7b87dc624957941a6aeab959d969",
       "max": 1,
       "style": "IPY_MODEL_af02d7e3554a4b848df3c077f3fc6565",
       "value": 1
      }
     },
     "612d5bfdb2bc4c2d94aeff07524948c2": {
      "model_module": "@jupyter-widgets/base",
      "model_module_version": "1.0.0",
      "model_name": "LayoutModel",
      "state": {}
     },
     "628b0c6d5a0846898c9ac5502da98c4e": {
      "model_module": "@jupyter-widgets/controls",
      "model_module_version": "1.1.0",
      "model_name": "DescriptionStyleModel",
      "state": {
       "description_width": ""
      }
     },
     "6574be446e0c426594549bb7a5b1cb58": {
      "model_module": "@jupyter-widgets/base",
      "model_module_version": "1.0.0",
      "model_name": "LayoutModel",
      "state": {}
     },
     "66a7b8612a564b21b9b59667654d2ed1": {
      "model_module": "@jupyter-widgets/controls",
      "model_module_version": "1.1.0",
      "model_name": "DescriptionStyleModel",
      "state": {
       "description_width": ""
      }
     },
     "6a04e9a63c794e10aaa977e50c6aaf1b": {
      "model_module": "@jupyter-widgets/base",
      "model_module_version": "1.0.0",
      "model_name": "LayoutModel",
      "state": {}
     },
     "6e63b520da8c4c149594ac7dc7104a18": {
      "model_module": "@jupyter-widgets/controls",
      "model_module_version": "1.1.0",
      "model_name": "DescriptionStyleModel",
      "state": {
       "description_width": ""
      }
     },
     "6edc7f4bbe924088a97d1b6e2a31ad3a": {
      "model_module": "@jupyter-widgets/controls",
      "model_module_version": "1.1.0",
      "model_name": "ProgressStyleModel",
      "state": {
       "description_width": ""
      }
     },
     "718fb219eca7444ca980ad634ae8c689": {
      "model_module": "@jupyter-widgets/controls",
      "model_module_version": "1.1.0",
      "model_name": "HBoxModel",
      "state": {
       "children": [
        "IPY_MODEL_12765034287a415cb24cc1b31bc8bb2d",
        "IPY_MODEL_a64c784b9e4c434ca626cf316979b227"
       ],
       "layout": "IPY_MODEL_ed6215e6a26d45eb81a03d4bcf11075a"
      }
     },
     "7281e9923cce4123869f9c5187c3c60e": {
      "model_module": "@jupyter-widgets/controls",
      "model_module_version": "1.1.0",
      "model_name": "ProgressStyleModel",
      "state": {
       "description_width": ""
      }
     },
     "740871ba3fca490ab98e9e628f51b21b": {
      "model_module": "@jupyter-widgets/base",
      "model_module_version": "1.0.0",
      "model_name": "LayoutModel",
      "state": {}
     },
     "77b148a4a29047158b097af1a8868d8b": {
      "model_module": "@jupyter-widgets/controls",
      "model_module_version": "1.1.0",
      "model_name": "ProgressStyleModel",
      "state": {
       "description_width": ""
      }
     },
     "78168dd8d0ea452681a4eeed27651773": {
      "model_module": "@jupyter-widgets/base",
      "model_module_version": "1.0.0",
      "model_name": "LayoutModel",
      "state": {}
     },
     "796f09910f5644e699974694b58745eb": {
      "model_module": "@jupyter-widgets/controls",
      "model_module_version": "1.1.0",
      "model_name": "HBoxModel",
      "state": {
       "children": [
        "IPY_MODEL_02df9c5f2fcf419b90989a667864e3a9",
        "IPY_MODEL_f4f87fc3d748447c9f801c388f6ceadf"
       ],
       "layout": "IPY_MODEL_cb67a8cd1fb64c318ca930769be8694f"
      }
     },
     "7995d35477a24f3fa0daa82ddc2a4d4f": {
      "model_module": "@jupyter-widgets/controls",
      "model_module_version": "1.1.0",
      "model_name": "IntProgressModel",
      "state": {
       "bar_style": "danger",
       "layout": "IPY_MODEL_1ace6216d8f24231865a24d930584512",
       "max": 1,
       "style": "IPY_MODEL_1c71a99116ed40009da398638f0e2263",
       "value": 1
      }
     },
     "7d52571f6fa34bb78e4c9c470d925a93": {
      "model_module": "@jupyter-widgets/controls",
      "model_module_version": "1.1.0",
      "model_name": "ProgressStyleModel",
      "state": {
       "description_width": ""
      }
     },
     "7df4b889210b424599756e6a6b3a44bc": {
      "model_module": "@jupyter-widgets/controls",
      "model_module_version": "1.1.0",
      "model_name": "HBoxModel",
      "state": {
       "children": [
        "IPY_MODEL_d7382d3ceda14785bceb7754e5cd279a",
        "IPY_MODEL_c5ef8a591582420fbd9c45f7933e7a04"
       ],
       "layout": "IPY_MODEL_391e6f963a0941c29e0cde83d03ae16e"
      }
     },
     "7e32869922634895961a14b9a65574b6": {
      "model_module": "@jupyter-widgets/controls",
      "model_module_version": "1.1.0",
      "model_name": "ProgressStyleModel",
      "state": {
       "description_width": ""
      }
     },
     "7ee1e632413f487aa4a67031ee4eacbb": {
      "model_module": "@jupyter-widgets/controls",
      "model_module_version": "1.1.0",
      "model_name": "HTMLModel",
      "state": {
       "layout": "IPY_MODEL_097564b13d1b408aa73c3e517553af7c",
       "style": "IPY_MODEL_5ed2856d0fd0495aa3bf536d7c545e45",
       "value": "682638it [00:03, 219211.88it/s]"
      }
     },
     "7f076662f11c4bf890feea21e3ffcd6a": {
      "model_module": "@jupyter-widgets/controls",
      "model_module_version": "1.1.0",
      "model_name": "HTMLModel",
      "state": {
       "layout": "IPY_MODEL_897d98235f944c1b82c2103b340c9763",
       "style": "IPY_MODEL_42ada1c34ea74bfbac470cbe92a418dd",
       "value": "489459it [06:56, 1173.98it/s]"
      }
     },
     "80d3a28a6ccf4afe87aad4385ff0d9e3": {
      "model_module": "@jupyter-widgets/base",
      "model_module_version": "1.0.0",
      "model_name": "LayoutModel",
      "state": {}
     },
     "823efe25b83748c79b80dc8ef72d604f": {
      "model_module": "@jupyter-widgets/base",
      "model_module_version": "1.0.0",
      "model_name": "LayoutModel",
      "state": {}
     },
     "827b2d8287a14f9f9059ca68e65adc38": {
      "model_module": "@jupyter-widgets/controls",
      "model_module_version": "1.1.0",
      "model_name": "DescriptionStyleModel",
      "state": {
       "description_width": ""
      }
     },
     "828647e41f2442ca89562f352ff31f4a": {
      "model_module": "@jupyter-widgets/base",
      "model_module_version": "1.0.0",
      "model_name": "LayoutModel",
      "state": {}
     },
     "8543ca440c9443eb9aa602a1d321d3d1": {
      "model_module": "@jupyter-widgets/controls",
      "model_module_version": "1.1.0",
      "model_name": "HTMLModel",
      "state": {
       "layout": "IPY_MODEL_80d3a28a6ccf4afe87aad4385ff0d9e3",
       "style": "IPY_MODEL_c5caed2c6e7d4639bc247be5b110b83e",
       "value": "304773it [00:50, 6091.41it/s]"
      }
     },
     "85706aedc75d46f0824cc247bdebaf9f": {
      "model_module": "@jupyter-widgets/base",
      "model_module_version": "1.0.0",
      "model_name": "LayoutModel",
      "state": {}
     },
     "86dec23aedad4f1791854166b3b4a4e3": {
      "model_module": "@jupyter-widgets/controls",
      "model_module_version": "1.1.0",
      "model_name": "HBoxModel",
      "state": {
       "children": [
        "IPY_MODEL_4b1ec1db486f4c8d8bcb7fc824df96c2",
        "IPY_MODEL_1bd8ceb60aa240f5b83e7e43e9f2108f"
       ],
       "layout": "IPY_MODEL_36fd24e4164144e8ad985f7865e3862b"
      }
     },
     "8843f9eb09c14098bf61fe7b822a2fe7": {
      "model_module": "@jupyter-widgets/controls",
      "model_module_version": "1.1.0",
      "model_name": "HTMLModel",
      "state": {
       "layout": "IPY_MODEL_1f8d25f7399a43fdabab7608c8d1dcdb",
       "style": "IPY_MODEL_fe84de58534a4f27bfb2bad8b00f132b",
       "value": "489459it [00:02, 197937.84it/s]"
      }
     },
     "897d98235f944c1b82c2103b340c9763": {
      "model_module": "@jupyter-widgets/base",
      "model_module_version": "1.0.0",
      "model_name": "LayoutModel",
      "state": {}
     },
     "89b316b0be2b45b992fb475f99a7f26d": {
      "model_module": "@jupyter-widgets/controls",
      "model_module_version": "1.1.0",
      "model_name": "ProgressStyleModel",
      "state": {
       "description_width": ""
      }
     },
     "8bdadaf6bd9b4fa88d7a069864225d66": {
      "model_module": "@jupyter-widgets/base",
      "model_module_version": "1.0.0",
      "model_name": "LayoutModel",
      "state": {}
     },
     "8cc89fe40bde4361991c0ebe236a7815": {
      "model_module": "@jupyter-widgets/controls",
      "model_module_version": "1.1.0",
      "model_name": "IntProgressModel",
      "state": {
       "bar_style": "success",
       "layout": "IPY_MODEL_53aa9ef8760d4025ad905e15b0085916",
       "max": 1,
       "style": "IPY_MODEL_17489f85ddf44188a181ff9ec83da2c3",
       "value": 1
      }
     },
     "8d9ec1d5922649129f9dcf9967431360": {
      "model_module": "@jupyter-widgets/controls",
      "model_module_version": "1.1.0",
      "model_name": "HBoxModel",
      "state": {
       "children": [
        "IPY_MODEL_59e57c48261c43e2bce92c0a69c190d2",
        "IPY_MODEL_7ee1e632413f487aa4a67031ee4eacbb"
       ],
       "layout": "IPY_MODEL_3bb78c0158a141e085c63fe13c8911b9"
      }
     },
     "8e95d6506e394fa5bd88c160f2c63655": {
      "model_module": "@jupyter-widgets/base",
      "model_module_version": "1.0.0",
      "model_name": "LayoutModel",
      "state": {}
     },
     "91d81e686b5f4caeaf1f32b3a9bc95ca": {
      "model_module": "@jupyter-widgets/base",
      "model_module_version": "1.0.0",
      "model_name": "LayoutModel",
      "state": {}
     },
     "91f0eb1d4478497996cf0def18de9d53": {
      "model_module": "@jupyter-widgets/controls",
      "model_module_version": "1.1.0",
      "model_name": "IntProgressModel",
      "state": {
       "bar_style": "danger",
       "layout": "IPY_MODEL_c9562129e7ed486bab1d7c22ff9c2083",
       "max": 1,
       "style": "IPY_MODEL_7281e9923cce4123869f9c5187c3c60e",
       "value": 1
      }
     },
     "92ca4ee26c8b4729a606b10a2b987f50": {
      "model_module": "@jupyter-widgets/controls",
      "model_module_version": "1.1.0",
      "model_name": "HBoxModel",
      "state": {
       "children": [
        "IPY_MODEL_29bb72014e414f39b31f9979ce21698d",
        "IPY_MODEL_0dc4d99812164594bf64c5194966877a"
       ],
       "layout": "IPY_MODEL_4f824b2916c64197bdcc959578216f2e"
      }
     },
     "93ffc95d07fb4195bfccfd5cb834daa2": {
      "model_module": "@jupyter-widgets/controls",
      "model_module_version": "1.1.0",
      "model_name": "HBoxModel",
      "state": {
       "children": [
        "IPY_MODEL_5993938ac3e54dc4a96c7beed23c99ca",
        "IPY_MODEL_8843f9eb09c14098bf61fe7b822a2fe7"
       ],
       "layout": "IPY_MODEL_e1df5c83de684670983f418e18c07508"
      }
     },
     "9687ce68dfc443b399d5291bd52b7972": {
      "model_module": "@jupyter-widgets/controls",
      "model_module_version": "1.1.0",
      "model_name": "ProgressStyleModel",
      "state": {
       "description_width": ""
      }
     },
     "97ee21019c7b45889fc5bcddce553165": {
      "model_module": "@jupyter-widgets/base",
      "model_module_version": "1.0.0",
      "model_name": "LayoutModel",
      "state": {}
     },
     "99c5a38615894cdbbd441547b23d4af0": {
      "model_module": "@jupyter-widgets/controls",
      "model_module_version": "1.1.0",
      "model_name": "HTMLModel",
      "state": {
       "layout": "IPY_MODEL_13b18635a5a046749da023f93bd577f1",
       "style": "IPY_MODEL_b133a7d422fc406eb31afa99a366c813",
       "value": "0it [00:00, ?it/s]"
      }
     },
     "99f4e2fdc7cb4fcd9f97748a754b2195": {
      "model_module": "@jupyter-widgets/controls",
      "model_module_version": "1.1.0",
      "model_name": "ProgressStyleModel",
      "state": {
       "description_width": ""
      }
     },
     "9a9e49bdbc7d4405bb7a776428746af8": {
      "model_module": "@jupyter-widgets/base",
      "model_module_version": "1.0.0",
      "model_name": "LayoutModel",
      "state": {}
     },
     "9cf94020b230467095d7fa77fa6b948f": {
      "model_module": "@jupyter-widgets/controls",
      "model_module_version": "1.1.0",
      "model_name": "HTMLModel",
      "state": {
       "layout": "IPY_MODEL_91d81e686b5f4caeaf1f32b3a9bc95ca",
       "style": "IPY_MODEL_ef4a40ad4e794239b853c0203aab7abc",
       "value": "75406it [00:20, 3770.22it/s]"
      }
     },
     "a014fdeebc994324aa310746ad728260": {
      "model_module": "@jupyter-widgets/base",
      "model_module_version": "1.0.0",
      "model_name": "LayoutModel",
      "state": {}
     },
     "a64c784b9e4c434ca626cf316979b227": {
      "model_module": "@jupyter-widgets/controls",
      "model_module_version": "1.1.0",
      "model_name": "HTMLModel",
      "state": {
       "layout": "IPY_MODEL_00fc296d29d74911bafae0a0a971c438",
       "style": "IPY_MODEL_0fe88d5119044a50bf305b9c9ad2a6a3",
       "value": "489459it [01:05, 7498.19it/s]"
      }
     },
     "a71b84ce44d64f188031c73677cadcf6": {
      "model_module": "@jupyter-widgets/controls",
      "model_module_version": "1.1.0",
      "model_name": "HBoxModel",
      "state": {
       "children": [
        "IPY_MODEL_fc89071a79644d10a93500f88db6731b",
        "IPY_MODEL_c261c9d1474c4dc89cef501d507d66bd"
       ],
       "layout": "IPY_MODEL_268b00cb4e44407fbc24979fd5edc8d4"
      }
     },
     "a93f9539add1491e91ad58257d0f67d8": {
      "model_module": "@jupyter-widgets/controls",
      "model_module_version": "1.1.0",
      "model_name": "HBoxModel",
      "state": {
       "children": [
        "IPY_MODEL_8cc89fe40bde4361991c0ebe236a7815",
        "IPY_MODEL_3457c7fb3cc441ba9ba4c61868924c27"
       ],
       "layout": "IPY_MODEL_05c87c2edfb249c7a569cb377ad5c19f"
      }
     },
     "a9cb7046a12c4075856412289894a9a3": {
      "model_module": "@jupyter-widgets/base",
      "model_module_version": "1.0.0",
      "model_name": "LayoutModel",
      "state": {}
     },
     "ab09815f76e54240bf3d7d596abe2aa3": {
      "model_module": "@jupyter-widgets/controls",
      "model_module_version": "1.1.0",
      "model_name": "HTMLModel",
      "state": {
       "layout": "IPY_MODEL_b738ca1397b943b6b373d9a52f95e18b",
       "style": "IPY_MODEL_6e63b520da8c4c149594ac7dc7104a18",
       "value": "0it [00:00, ?it/s]"
      }
     },
     "ab9a281323bb45e7b54f421f67e25e9a": {
      "model_module": "@jupyter-widgets/controls",
      "model_module_version": "1.1.0",
      "model_name": "HBoxModel",
      "state": {
       "children": [
        "IPY_MODEL_41e5c0d8dede4df884f55ae6157d82f1",
        "IPY_MODEL_c2028016f973451381dac2821246a201"
       ],
       "layout": "IPY_MODEL_efcefd6c1ff04be38101e96a57b7410d"
      }
     },
     "ad3e1ac128514c488f1d87bbd2d9c844": {
      "model_module": "@jupyter-widgets/controls",
      "model_module_version": "1.1.0",
      "model_name": "ProgressStyleModel",
      "state": {
       "description_width": ""
      }
     },
     "aeff9e6046654defbc878493899fabb1": {
      "model_module": "@jupyter-widgets/base",
      "model_module_version": "1.0.0",
      "model_name": "LayoutModel",
      "state": {}
     },
     "af02d7e3554a4b848df3c077f3fc6565": {
      "model_module": "@jupyter-widgets/controls",
      "model_module_version": "1.1.0",
      "model_name": "ProgressStyleModel",
      "state": {
       "description_width": ""
      }
     },
     "b133a7d422fc406eb31afa99a366c813": {
      "model_module": "@jupyter-widgets/controls",
      "model_module_version": "1.1.0",
      "model_name": "DescriptionStyleModel",
      "state": {
       "description_width": ""
      }
     },
     "b1b2f03978af48a3afbda689096b5602": {
      "model_module": "@jupyter-widgets/controls",
      "model_module_version": "1.1.0",
      "model_name": "DescriptionStyleModel",
      "state": {
       "description_width": ""
      }
     },
     "b54f9d488fcb4194b4db6a46a3197c2d": {
      "model_module": "@jupyter-widgets/base",
      "model_module_version": "1.0.0",
      "model_name": "LayoutModel",
      "state": {}
     },
     "b69ade9d5fb0430fa0eeef834c45ef60": {
      "model_module": "@jupyter-widgets/base",
      "model_module_version": "1.0.0",
      "model_name": "LayoutModel",
      "state": {}
     },
     "b738ca1397b943b6b373d9a52f95e18b": {
      "model_module": "@jupyter-widgets/base",
      "model_module_version": "1.0.0",
      "model_name": "LayoutModel",
      "state": {}
     },
     "b7ce42f1f1614b28be3f262daa56b72c": {
      "model_module": "@jupyter-widgets/controls",
      "model_module_version": "1.1.0",
      "model_name": "IntProgressModel",
      "state": {
       "bar_style": "success",
       "layout": "IPY_MODEL_e2d25c893eda492aa3221c8f4223dada",
       "max": 1,
       "style": "IPY_MODEL_1248c9e867934defb5342577cae4ad76",
       "value": 1
      }
     },
     "ba4ac5c1b8614b2fab112969c460d25d": {
      "model_module": "@jupyter-widgets/controls",
      "model_module_version": "1.1.0",
      "model_name": "HBoxModel",
      "state": {
       "children": [
        "IPY_MODEL_5f6ea83c725643ffa7e79729257aea42",
        "IPY_MODEL_1a4bd6ff5b9a43209892b36efe370fec"
       ],
       "layout": "IPY_MODEL_23d49ef9467649ae8d27cf277d782b9c"
      }
     },
     "bbbdba27bdc24e26bd7b25eaee32f9bc": {
      "model_module": "@jupyter-widgets/base",
      "model_module_version": "1.0.0",
      "model_name": "LayoutModel",
      "state": {}
     },
     "bbf2f57e29664d57b87749835b4734cd": {
      "model_module": "@jupyter-widgets/controls",
      "model_module_version": "1.1.0",
      "model_name": "HBoxModel",
      "state": {
       "children": [
        "IPY_MODEL_31c28c5cc8c3442c93493989e857e576",
        "IPY_MODEL_ab09815f76e54240bf3d7d596abe2aa3"
       ],
       "layout": "IPY_MODEL_9a9e49bdbc7d4405bb7a776428746af8"
      }
     },
     "be6c20e3a18c449f844d539345e7ae81": {
      "model_module": "@jupyter-widgets/base",
      "model_module_version": "1.0.0",
      "model_name": "LayoutModel",
      "state": {}
     },
     "bf51bae1760740a1aff2c5d33fdd83fb": {
      "model_module": "@jupyter-widgets/controls",
      "model_module_version": "1.1.0",
      "model_name": "HTMLModel",
      "state": {
       "layout": "IPY_MODEL_d345e7c254574407a864db5e02cafb95",
       "style": "IPY_MODEL_66a7b8612a564b21b9b59667654d2ed1",
       "value": "103067it [01:13, 1405.22it/s]"
      }
     },
     "c2028016f973451381dac2821246a201": {
      "model_module": "@jupyter-widgets/controls",
      "model_module_version": "1.1.0",
      "model_name": "HTMLModel",
      "state": {
       "layout": "IPY_MODEL_dca97aabb0da4467a5f6856f17283dfc",
       "style": "IPY_MODEL_27797e0a61d046fa8826b33724878c45",
       "value": "489459it [00:02, 185122.87it/s]"
      }
     },
     "c261c9d1474c4dc89cef501d507d66bd": {
      "model_module": "@jupyter-widgets/controls",
      "model_module_version": "1.1.0",
      "model_name": "HTMLModel",
      "state": {
       "layout": "IPY_MODEL_6a04e9a63c794e10aaa977e50c6aaf1b",
       "style": "IPY_MODEL_3ece0b56f3044c56b39fa8bc4286b502",
       "value": "489459it [00:02, 200217.84it/s]"
      }
     },
     "c298ee701194400995105ba3d27eb84e": {
      "model_module": "@jupyter-widgets/controls",
      "model_module_version": "1.1.0",
      "model_name": "HBoxModel",
      "state": {
       "children": [
        "IPY_MODEL_186d3c5699c74ee89881e045a2994c48",
        "IPY_MODEL_1cb7f8983c5d44a58c208f10aee49b82"
       ],
       "layout": "IPY_MODEL_f00925316c4a416dab7a89f1367b9d73"
      }
     },
     "c3b2aa47aaa94c3d8320c032fb15b68d": {
      "model_module": "@jupyter-widgets/controls",
      "model_module_version": "1.1.0",
      "model_name": "HBoxModel",
      "state": {
       "children": [
        "IPY_MODEL_3023376ad24f44ceb9ab5e357a0df01d",
        "IPY_MODEL_bf51bae1760740a1aff2c5d33fdd83fb"
       ],
       "layout": "IPY_MODEL_78168dd8d0ea452681a4eeed27651773"
      }
     },
     "c3c0e830e760435d8dc13b29992a5e63": {
      "model_module": "@jupyter-widgets/controls",
      "model_module_version": "1.1.0",
      "model_name": "ProgressStyleModel",
      "state": {
       "description_width": ""
      }
     },
     "c5caed2c6e7d4639bc247be5b110b83e": {
      "model_module": "@jupyter-widgets/controls",
      "model_module_version": "1.1.0",
      "model_name": "DescriptionStyleModel",
      "state": {
       "description_width": ""
      }
     },
     "c5ef8a591582420fbd9c45f7933e7a04": {
      "model_module": "@jupyter-widgets/controls",
      "model_module_version": "1.1.0",
      "model_name": "HTMLModel",
      "state": {
       "layout": "IPY_MODEL_2fcf76800418435ab1f3a73921083381",
       "style": "IPY_MODEL_f5b31434d1d74bf4b6df7374b152a9e1",
       "value": "489459it [00:02, 206770.35it/s]"
      }
     },
     "c9562129e7ed486bab1d7c22ff9c2083": {
      "model_module": "@jupyter-widgets/base",
      "model_module_version": "1.0.0",
      "model_name": "LayoutModel",
      "state": {}
     },
     "cae7b83b50a14f09b5aa971e3ec64f5a": {
      "model_module": "@jupyter-widgets/base",
      "model_module_version": "1.0.0",
      "model_name": "LayoutModel",
      "state": {}
     },
     "cb67a8cd1fb64c318ca930769be8694f": {
      "model_module": "@jupyter-widgets/base",
      "model_module_version": "1.0.0",
      "model_name": "LayoutModel",
      "state": {}
     },
     "cbfad015c415448bbf696d4a4f233803": {
      "model_module": "@jupyter-widgets/controls",
      "model_module_version": "1.1.0",
      "model_name": "HTMLModel",
      "state": {
       "layout": "IPY_MODEL_823efe25b83748c79b80dc8ef72d604f",
       "style": "IPY_MODEL_daf64824b51b47d79d2c0984449662d2",
       "value": "489459it [01:02, 7852.85it/s]"
      }
     },
     "d345e7c254574407a864db5e02cafb95": {
      "model_module": "@jupyter-widgets/base",
      "model_module_version": "1.0.0",
      "model_name": "LayoutModel",
      "state": {}
     },
     "d5bad8d779bd4c80a74ace5b2b390824": {
      "model_module": "@jupyter-widgets/controls",
      "model_module_version": "1.1.0",
      "model_name": "DescriptionStyleModel",
      "state": {
       "description_width": ""
      }
     },
     "d612f22b0d0442ecb4750567f4c3bb32": {
      "model_module": "@jupyter-widgets/base",
      "model_module_version": "1.0.0",
      "model_name": "LayoutModel",
      "state": {}
     },
     "d6b37b060c0f410199c82104c862c5b8": {
      "model_module": "@jupyter-widgets/controls",
      "model_module_version": "1.1.0",
      "model_name": "DescriptionStyleModel",
      "state": {
       "description_width": ""
      }
     },
     "d7382d3ceda14785bceb7754e5cd279a": {
      "model_module": "@jupyter-widgets/controls",
      "model_module_version": "1.1.0",
      "model_name": "IntProgressModel",
      "state": {
       "bar_style": "success",
       "layout": "IPY_MODEL_be6c20e3a18c449f844d539345e7ae81",
       "max": 1,
       "style": "IPY_MODEL_3ac1e979b8154e7199bde2006c39ee42",
       "value": 1
      }
     },
     "d7be7b6dc3eb4534aa245f569770f422": {
      "model_module": "@jupyter-widgets/controls",
      "model_module_version": "1.1.0",
      "model_name": "ProgressStyleModel",
      "state": {
       "description_width": ""
      }
     },
     "d84deb2928ed4955a631681555406370": {
      "model_module": "@jupyter-widgets/controls",
      "model_module_version": "1.1.0",
      "model_name": "HTMLModel",
      "state": {
       "layout": "IPY_MODEL_0524a812d239490999da845eba13218f",
       "style": "IPY_MODEL_24fa18e395874e2584facd1ee8a84294",
       "value": "0it [00:00, ?it/s]"
      }
     },
     "d91f2c9b87a947d3ad4d66b3eed4d9ec": {
      "model_module": "@jupyter-widgets/controls",
      "model_module_version": "1.1.0",
      "model_name": "HBoxModel",
      "state": {
       "children": [
        "IPY_MODEL_e6ef4c3fa4e24852a1bbd2d5e062ed62",
        "IPY_MODEL_8543ca440c9443eb9aa602a1d321d3d1"
       ],
       "layout": "IPY_MODEL_33285bda2cec4b05823f336294ed47a8"
      }
     },
     "daf64824b51b47d79d2c0984449662d2": {
      "model_module": "@jupyter-widgets/controls",
      "model_module_version": "1.1.0",
      "model_name": "DescriptionStyleModel",
      "state": {
       "description_width": ""
      }
     },
     "dca97aabb0da4467a5f6856f17283dfc": {
      "model_module": "@jupyter-widgets/base",
      "model_module_version": "1.0.0",
      "model_name": "LayoutModel",
      "state": {}
     },
     "e1df5c83de684670983f418e18c07508": {
      "model_module": "@jupyter-widgets/base",
      "model_module_version": "1.0.0",
      "model_name": "LayoutModel",
      "state": {}
     },
     "e2d25c893eda492aa3221c8f4223dada": {
      "model_module": "@jupyter-widgets/base",
      "model_module_version": "1.0.0",
      "model_name": "LayoutModel",
      "state": {}
     },
     "e37b7b87dc624957941a6aeab959d969": {
      "model_module": "@jupyter-widgets/base",
      "model_module_version": "1.0.0",
      "model_name": "LayoutModel",
      "state": {}
     },
     "e3d7c99443694c38b03d2f0c1ca2ad2f": {
      "model_module": "@jupyter-widgets/base",
      "model_module_version": "1.0.0",
      "model_name": "LayoutModel",
      "state": {}
     },
     "e6d5e0003c42431ba7107c5674fa2a50": {
      "model_module": "@jupyter-widgets/base",
      "model_module_version": "1.0.0",
      "model_name": "LayoutModel",
      "state": {}
     },
     "e6ef4c3fa4e24852a1bbd2d5e062ed62": {
      "model_module": "@jupyter-widgets/controls",
      "model_module_version": "1.1.0",
      "model_name": "IntProgressModel",
      "state": {
       "bar_style": "danger",
       "layout": "IPY_MODEL_49e89c1a1fb045bfbceb14c80dc9224e",
       "max": 1,
       "style": "IPY_MODEL_99f4e2fdc7cb4fcd9f97748a754b2195",
       "value": 1
      }
     },
     "e71b48ba18f04881a7f5327ded9e0f0d": {
      "model_module": "@jupyter-widgets/base",
      "model_module_version": "1.0.0",
      "model_name": "LayoutModel",
      "state": {}
     },
     "eac349275e54403eb04d3ee1e2d39a00": {
      "model_module": "@jupyter-widgets/controls",
      "model_module_version": "1.1.0",
      "model_name": "DescriptionStyleModel",
      "state": {
       "description_width": ""
      }
     },
     "ecf1e1310f634a489913849fb6e6eca7": {
      "model_module": "@jupyter-widgets/controls",
      "model_module_version": "1.1.0",
      "model_name": "HTMLModel",
      "state": {
       "layout": "IPY_MODEL_46ed41bb5cd74580bdda98df1bdc6981",
       "style": "IPY_MODEL_0cd6125527494bb591fc4c011723edb9",
       "value": "0it [00:00, ?it/s]"
      }
     },
     "ed6215e6a26d45eb81a03d4bcf11075a": {
      "model_module": "@jupyter-widgets/base",
      "model_module_version": "1.0.0",
      "model_name": "LayoutModel",
      "state": {}
     },
     "edd7f2f0d33a4d0cb95c409b288dbb98": {
      "model_module": "@jupyter-widgets/base",
      "model_module_version": "1.0.0",
      "model_name": "LayoutModel",
      "state": {}
     },
     "ef4a40ad4e794239b853c0203aab7abc": {
      "model_module": "@jupyter-widgets/controls",
      "model_module_version": "1.1.0",
      "model_name": "DescriptionStyleModel",
      "state": {
       "description_width": ""
      }
     },
     "efcefd6c1ff04be38101e96a57b7410d": {
      "model_module": "@jupyter-widgets/base",
      "model_module_version": "1.0.0",
      "model_name": "LayoutModel",
      "state": {}
     },
     "f00925316c4a416dab7a89f1367b9d73": {
      "model_module": "@jupyter-widgets/base",
      "model_module_version": "1.0.0",
      "model_name": "LayoutModel",
      "state": {}
     },
     "f05abd3969354d8cba9a8091f521a923": {
      "model_module": "@jupyter-widgets/base",
      "model_module_version": "1.0.0",
      "model_name": "LayoutModel",
      "state": {}
     },
     "f417dccca8374b709be075ef7809d9af": {
      "model_module": "@jupyter-widgets/controls",
      "model_module_version": "1.1.0",
      "model_name": "IntProgressModel",
      "state": {
       "bar_style": "danger",
       "layout": "IPY_MODEL_e3d7c99443694c38b03d2f0c1ca2ad2f",
       "max": 1,
       "style": "IPY_MODEL_00bda65d878d4466a010731878442bde",
       "value": 1
      }
     },
     "f42f954d8c21493c9f076e97f6a6bb34": {
      "model_module": "@jupyter-widgets/base",
      "model_module_version": "1.0.0",
      "model_name": "LayoutModel",
      "state": {}
     },
     "f4f87fc3d748447c9f801c388f6ceadf": {
      "model_module": "@jupyter-widgets/controls",
      "model_module_version": "1.1.0",
      "model_name": "HTMLModel",
      "state": {
       "layout": "IPY_MODEL_09815aba106d4e479f8d445179376f05",
       "style": "IPY_MODEL_628b0c6d5a0846898c9ac5502da98c4e",
       "value": "489459it [00:02, 185805.92it/s]"
      }
     },
     "f5b31434d1d74bf4b6df7374b152a9e1": {
      "model_module": "@jupyter-widgets/controls",
      "model_module_version": "1.1.0",
      "model_name": "DescriptionStyleModel",
      "state": {
       "description_width": ""
      }
     },
     "f7ac0487013b4d1bafa1d25b98ace2e3": {
      "model_module": "@jupyter-widgets/controls",
      "model_module_version": "1.1.0",
      "model_name": "ProgressStyleModel",
      "state": {
       "description_width": ""
      }
     },
     "f7e82e4c84ac4f23981efcce6b0060e7": {
      "model_module": "@jupyter-widgets/controls",
      "model_module_version": "1.1.0",
      "model_name": "HBoxModel",
      "state": {
       "children": [
        "IPY_MODEL_fb710b640d9640abbb779ee7118f849b",
        "IPY_MODEL_ecf1e1310f634a489913849fb6e6eca7"
       ],
       "layout": "IPY_MODEL_f05abd3969354d8cba9a8091f521a923"
      }
     },
     "fb710b640d9640abbb779ee7118f849b": {
      "model_module": "@jupyter-widgets/controls",
      "model_module_version": "1.1.0",
      "model_name": "IntProgressModel",
      "state": {
       "bar_style": "danger",
       "layout": "IPY_MODEL_fe9c14c2545c4dd290d40dba935d830a",
       "max": 1,
       "style": "IPY_MODEL_16f98daf6e354874b691553942e62062",
       "value": 1
      }
     },
     "fc89071a79644d10a93500f88db6731b": {
      "model_module": "@jupyter-widgets/controls",
      "model_module_version": "1.1.0",
      "model_name": "IntProgressModel",
      "state": {
       "bar_style": "success",
       "layout": "IPY_MODEL_a014fdeebc994324aa310746ad728260",
       "max": 1,
       "style": "IPY_MODEL_6edc7f4bbe924088a97d1b6e2a31ad3a",
       "value": 1
      }
     },
     "fdd2c8678a09412d9a761f4703654d37": {
      "model_module": "@jupyter-widgets/controls",
      "model_module_version": "1.1.0",
      "model_name": "HBoxModel",
      "state": {
       "children": [
        "IPY_MODEL_19fb6d0ce19b42269dd016143e31bb8f",
        "IPY_MODEL_7f076662f11c4bf890feea21e3ffcd6a"
       ],
       "layout": "IPY_MODEL_53d1309d4c254299840f6daff64ab33b"
      }
     },
     "fe84de58534a4f27bfb2bad8b00f132b": {
      "model_module": "@jupyter-widgets/controls",
      "model_module_version": "1.1.0",
      "model_name": "DescriptionStyleModel",
      "state": {
       "description_width": ""
      }
     },
     "fe9c14c2545c4dd290d40dba935d830a": {
      "model_module": "@jupyter-widgets/base",
      "model_module_version": "1.0.0",
      "model_name": "LayoutModel",
      "state": {}
     },
     "ffe7361bd3d64b05bff4b3cf97bf7c4e": {
      "model_module": "@jupyter-widgets/base",
      "model_module_version": "1.0.0",
      "model_name": "LayoutModel",
      "state": {}
     }
    },
    "version_major": 2,
    "version_minor": 0
   }
  }
 },
 "nbformat": 4,
 "nbformat_minor": 2
}
